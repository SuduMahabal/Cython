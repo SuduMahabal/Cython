{
 "cells": [
  {
   "cell_type": "code",
   "execution_count": null,
   "metadata": {
    "collapsed": true
   },
   "outputs": [],
   "source": [
    "%load_ext cython"
   ]
  },
  {
   "cell_type": "markdown",
   "metadata": {},
   "source": [
    "# Effect of boundscheck\n",
    "\n",
    "Simple formula:\n",
    "\n",
    "$$\n",
    "f(x, y) = \\sum_{i=0}^{n-1} x^{y_i}\n",
    "$$"
   ]
  },
  {
   "cell_type": "code",
   "execution_count": null,
   "metadata": {
    "collapsed": false
   },
   "outputs": [],
   "source": [
    "%%cython -a\n",
    "# cython: boundscheck=True\n",
    "import numpy as np\n",
    "\n",
    "cpdef f1(double[:] x, double[:] y):\n",
    "    cdef int i, j, nx = x.shape[0], ny = y.shape[0]\n",
    "    cdef double[:] result = np.zeros(nx)\n",
    "    for i in range(nx):\n",
    "        for j in range(ny):\n",
    "            result[i] += x[i] ** y[j]\n",
    "    return np.asarray(result)\n",
    "        "
   ]
  },
  {
   "cell_type": "code",
   "execution_count": null,
   "metadata": {
    "collapsed": false
   },
   "outputs": [],
   "source": [
    "%%cython -a\n",
    "# cython: boundscheck=False\n",
    "import numpy as np\n",
    "\n",
    "cpdef f2(double[:] x, double[:] y):\n",
    "    cdef int i, j, nx = x.shape[0], ny = y.shape[0]\n",
    "    cdef double[:] result = np.zeros(nx)\n",
    "    for i in range(nx):\n",
    "        for j in range(ny):\n",
    "            result[i] += x[i] ** y[j]\n",
    "    return np.asarray(result)"
   ]
  },
  {
   "cell_type": "code",
   "execution_count": null,
   "metadata": {
    "collapsed": false
   },
   "outputs": [],
   "source": [
    "import numpy as np\n",
    "n = 10\n",
    "\n",
    "def make_data(n):\n",
    "    x = np.random.random(n)\n",
    "    y = np.random.random(20)\n",
    "    return x , y\n",
    "\n",
    "# Demo\n",
    "x, y = make_data(3)\n",
    "z = f1(x , y)\n",
    "\n",
    "print(z[:3])"
   ]
  },
  {
   "cell_type": "code",
   "execution_count": null,
   "metadata": {
    "collapsed": false
   },
   "outputs": [],
   "source": [
    "%timeit f1(*make_data(1000000))\n",
    "%timeit f2(*make_data(1000000))"
   ]
  },
  {
   "cell_type": "code",
   "execution_count": null,
   "metadata": {
    "collapsed": true
   },
   "outputs": [],
   "source": []
  }
 ],
 "metadata": {
  "kernelspec": {
   "display_name": "Python 3",
   "language": "python",
   "name": "python3"
  },
  "language_info": {
   "codemirror_mode": {
    "name": "ipython",
    "version": 3
   },
   "file_extension": ".py",
   "mimetype": "text/x-python",
   "name": "python",
   "nbconvert_exporter": "python",
   "pygments_lexer": "ipython3",
   "version": "3.4.4"
  }
 },
 "nbformat": 4,
 "nbformat_minor": 0
}
