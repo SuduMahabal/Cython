{
 "cells": [
  {
   "cell_type": "code",
   "execution_count": null,
   "metadata": {
    "collapsed": false
   },
   "outputs": [],
   "source": [
    "%load_ext cython"
   ]
  },
  {
   "cell_type": "code",
   "execution_count": null,
   "metadata": {
    "collapsed": false
   },
   "outputs": [],
   "source": [
    "%%cython\n",
    "# cython: boundscheck = True\n",
    "def f(double[:] x):\n",
    "    cdef double y\n",
    "    with nogil:\n",
    "        y = x[99]\n",
    "    return y"
   ]
  },
  {
   "cell_type": "code",
   "execution_count": null,
   "metadata": {
    "collapsed": true
   },
   "outputs": [],
   "source": [
    "import numpy as np"
   ]
  },
  {
   "cell_type": "code",
   "execution_count": null,
   "metadata": {
    "collapsed": false
   },
   "outputs": [],
   "source": [
    "x = np.zeros(3)\n",
    "print(x)"
   ]
  },
  {
   "cell_type": "code",
   "execution_count": null,
   "metadata": {
    "collapsed": false
   },
   "outputs": [],
   "source": [
    "f(x)"
   ]
  },
  {
   "cell_type": "code",
   "execution_count": null,
   "metadata": {
    "collapsed": true
   },
   "outputs": [],
   "source": [
    "%%cython\n",
    "# cython: wraparound = True\n",
    "from libc.stdint cimport uint8_t\n",
    "\n",
    "def g(uint8_t x):\n",
    "    cdef uint8_t y = x + 2\n",
    "    return y"
   ]
  },
  {
   "cell_type": "code",
   "execution_count": null,
   "metadata": {
    "collapsed": false
   },
   "outputs": [],
   "source": [
    "g(255)"
   ]
  },
  {
   "cell_type": "code",
   "execution_count": null,
   "metadata": {
    "collapsed": false
   },
   "outputs": [],
   "source": [
    "%%cython\n",
    "# cython: wraparound = False\n",
    "\n",
    "def g(double[:] x):\n",
    "    return x[-2]"
   ]
  },
  {
   "cell_type": "code",
   "execution_count": null,
   "metadata": {
    "collapsed": false
   },
   "outputs": [],
   "source": [
    "import numpy as np\n",
    "data = np.random.rand(3)\n",
    "print(data)\n",
    "g(data)"
   ]
  },
  {
   "cell_type": "code",
   "execution_count": null,
   "metadata": {
    "collapsed": false
   },
   "outputs": [],
   "source": [
    "%%cython -a\n",
    "# cython: boundscheck = False\n",
    "cimport cython\n",
    "\n",
    "@cython.cdivision(False)\n",
    "def f1(double[:] x, double[:] y):\n",
    "    cdef int i, j, nx = x.shape[0], ny = y.shape[0]\n",
    "    cdef double result = 0\n",
    "    for i in range(nx):\n",
    "        for j in range(ny):\n",
    "            result += x[i] / y[j]\n",
    "    return result\n",
    "\n",
    "@cython.cdivision(True)\n",
    "def f2(double[:] x, double[:] y):\n",
    "    cdef int i, j, nx = x.shape[0], ny = y.shape[0]\n",
    "    cdef double result = 0\n",
    "    for i in range(nx):\n",
    "        for j in range(ny):\n",
    "            result += x[i] / y[j]\n",
    "    return result"
   ]
  },
  {
   "cell_type": "code",
   "execution_count": null,
   "metadata": {
    "collapsed": true
   },
   "outputs": [],
   "source": [
    "def make_data(n):\n",
    "    x = np.random.rand(n) + 1\n",
    "    y = np.random.rand(n) + 1\n",
    "    return x, y\n",
    "\n",
    "x, y = make_data(10000)"
   ]
  },
  {
   "cell_type": "code",
   "execution_count": null,
   "metadata": {
    "collapsed": false
   },
   "outputs": [],
   "source": [
    "%timeit f1(x, y)\n",
    "%timeit f2(x, y)"
   ]
  },
  {
   "cell_type": "code",
   "execution_count": null,
   "metadata": {
    "collapsed": false
   },
   "outputs": [],
   "source": [
    "-4//3"
   ]
  },
  {
   "cell_type": "code",
   "execution_count": null,
   "metadata": {
    "collapsed": false
   },
   "outputs": [],
   "source": [
    "416/408"
   ]
  },
  {
   "cell_type": "code",
   "execution_count": null,
   "metadata": {
    "collapsed": false
   },
   "outputs": [],
   "source": [
    "%%cython -a\n",
    "# cython: boundscheck = False\n",
    "# cython: overflowcheck = False\n",
    "cimport cython\n",
    "\n",
    "@cython.cdivision(False)\n",
    "@cython.overflowcheck(False)\n",
    "def g1(long[:] x, long[:] y):\n",
    "    cdef int i, j, nx = x.shape[0], ny = y.shape[0]\n",
    "    cdef long result = 0\n",
    "    for i in range(nx):\n",
    "        for j in range(ny):\n",
    "            result += x[i] / y[j]\n",
    "    return result\n",
    "\n",
    "@cython.cdivision(True)\n",
    "def g2(long[:] x, long[:] y):\n",
    "    cdef int i, j, nx = x.shape[0], ny = y.shape[0]\n",
    "    cdef long result = 0\n",
    "    for i in range(nx):\n",
    "        for j in range(ny):\n",
    "            result += x[i] / y[j]\n",
    "    return result"
   ]
  },
  {
   "cell_type": "code",
   "execution_count": null,
   "metadata": {
    "collapsed": false
   },
   "outputs": [],
   "source": [
    "import numpy as np\n",
    "def make_data(n):\n",
    "    x = np.random.random_integers(1, 10, n)\n",
    "    y = np.random.random_integers(1, 10, n)\n",
    "    return x, y\n",
    "\n",
    "a, b = make_data(10000)"
   ]
  },
  {
   "cell_type": "code",
   "execution_count": null,
   "metadata": {
    "collapsed": false
   },
   "outputs": [],
   "source": [
    "%timeit g1(a, b)\n",
    "%timeit g2(a, b)"
   ]
  },
  {
   "cell_type": "code",
   "execution_count": null,
   "metadata": {
    "collapsed": true
   },
   "outputs": [],
   "source": []
  }
 ],
 "metadata": {
  "kernelspec": {
   "display_name": "Python 3",
   "language": "python",
   "name": "python3"
  },
  "language_info": {
   "codemirror_mode": {
    "name": "ipython",
    "version": 3
   },
   "file_extension": ".py",
   "mimetype": "text/x-python",
   "name": "python",
   "nbconvert_exporter": "python",
   "pygments_lexer": "ipython3",
   "version": "3.4.4"
  }
 },
 "nbformat": 4,
 "nbformat_minor": 0
}
