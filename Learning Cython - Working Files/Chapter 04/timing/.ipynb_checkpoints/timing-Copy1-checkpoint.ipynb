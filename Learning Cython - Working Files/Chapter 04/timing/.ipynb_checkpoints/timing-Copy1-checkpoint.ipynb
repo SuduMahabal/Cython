{
 "cells": [
  {
   "cell_type": "code",
   "execution_count": 1,
   "metadata": {
    "collapsed": true
   },
   "outputs": [],
   "source": [
    "def f1(n):\n",
    "    result = 0\n",
    "    for i in range(n + 1):\n",
    "        result = result + i\n",
    "    return result\n",
    "        \n",
    "def f2(n):\n",
    "    return sum(range(n + 1))"
   ]
  },
  {
   "cell_type": "code",
   "execution_count": 20,
   "metadata": {
    "collapsed": false
   },
   "outputs": [
    {
     "name": "stdout",
     "output_type": "stream",
     "text": [
      "1 loops, best of 3: 741 ms per loop\n",
      "1 loops, best of 3: 211 ms per loop\n"
     ]
    }
   ],
   "source": [
    "n = int(1e7)\n",
    "%timeit f1(n)\n",
    "%timeit f2(n)"
   ]
  },
  {
   "cell_type": "code",
   "execution_count": 21,
   "metadata": {
    "collapsed": false
   },
   "outputs": [
    {
     "name": "stdout",
     "output_type": "stream",
     "text": [
      "1 loops, best of 3: 757 ms per loop\n"
     ]
    }
   ],
   "source": [
    "%%timeit\n",
    "tot = 0\n",
    "for i in range(n):\n",
    "    tot += i\n"
   ]
  },
  {
   "cell_type": "code",
   "execution_count": 22,
   "metadata": {
    "collapsed": false
   },
   "outputs": [
    {
     "name": "stdout",
     "output_type": "stream",
     "text": [
      " "
     ]
    }
   ],
   "source": [
    "%prun f1(n)"
   ]
  },
  {
   "cell_type": "markdown",
   "metadata": {},
   "source": [
    "# Arithmetic progression\n",
    "\n",
    "$$\n",
    "\\sum_{i=0}^N = \\frac{n(n+1)}{2}\n",
    "$$"
   ]
  },
  {
   "cell_type": "code",
   "execution_count": 28,
   "metadata": {
    "collapsed": true
   },
   "outputs": [],
   "source": [
    "def f3(n):\n",
    "    n = n - 1\n",
    "    return n * (n + 1) / 2\n"
   ]
  },
  {
   "cell_type": "code",
   "execution_count": 29,
   "metadata": {
    "collapsed": false
   },
   "outputs": [
    {
     "name": "stdout",
     "output_type": "stream",
     "text": [
      "The slowest run took 12.25 times longer than the fastest. This could mean that an intermediate result is being cached \n",
      "1000000 loops, best of 3: 235 ns per loop\n"
     ]
    }
   ],
   "source": [
    "%timeit f3(n)"
   ]
  },
  {
   "cell_type": "code",
   "execution_count": 30,
   "metadata": {
    "collapsed": false
   },
   "outputs": [
    {
     "data": {
      "text/plain": [
       "1039.4088669950738"
      ]
     },
     "execution_count": 30,
     "metadata": {},
     "output_type": "execute_result"
    }
   ],
   "source": [
    "211e-6/203e-9"
   ]
  },
  {
   "cell_type": "code",
   "execution_count": 31,
   "metadata": {
    "collapsed": false
   },
   "outputs": [
    {
     "name": "stdout",
     "output_type": "stream",
     "text": [
      "49999995000000\n",
      "49999995000000.0\n"
     ]
    }
   ],
   "source": [
    "print(f2(n))\n",
    "print(f3(n))"
   ]
  },
  {
   "cell_type": "code",
   "execution_count": null,
   "metadata": {
    "collapsed": true
   },
   "outputs": [],
   "source": []
  }
 ],
 "metadata": {
  "kernelspec": {
   "display_name": "Python 3",
   "language": "python",
   "name": "python3"
  },
  "language_info": {
   "codemirror_mode": {
    "name": "ipython",
    "version": 3
   },
   "file_extension": ".py",
   "mimetype": "text/x-python",
   "name": "python",
   "nbconvert_exporter": "python",
   "pygments_lexer": "ipython3",
   "version": "3.4.3"
  }
 },
 "nbformat": 4,
 "nbformat_minor": 0
}
