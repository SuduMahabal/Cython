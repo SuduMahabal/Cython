{
 "cells": [
  {
   "cell_type": "markdown",
   "metadata": {},
   "source": [
    "# Speed up color change\n",
    "\n",
    "This notebook shows how to speed up changing a color in an image. "
   ]
  },
  {
   "cell_type": "code",
   "execution_count": null,
   "metadata": {
    "collapsed": true
   },
   "outputs": [],
   "source": [
    "%load_ext cython"
   ]
  },
  {
   "cell_type": "code",
   "execution_count": null,
   "metadata": {
    "collapsed": false
   },
   "outputs": [],
   "source": [
    "import numpy as np\n",
    "\n",
    "def load_image_data(name):\n",
    "    from scipy import misc\n",
    "    return misc.imread(name)\n",
    "\n",
    "data = load_image_data('pepper-small.jpeg')"
   ]
  },
  {
   "cell_type": "markdown",
   "metadata": {},
   "source": [
    "## Show the image!"
   ]
  },
  {
   "cell_type": "code",
   "execution_count": null,
   "metadata": {
    "collapsed": false
   },
   "outputs": [],
   "source": [
    "%matplotlib inline\n",
    "from matplotlib.pyplot import imshow, figure\n",
    "\n",
    "imshow(data)"
   ]
  },
  {
   "cell_type": "markdown",
   "metadata": {},
   "source": [
    "## It's quite a small picture"
   ]
  },
  {
   "cell_type": "code",
   "execution_count": null,
   "metadata": {
    "collapsed": false
   },
   "outputs": [],
   "source": [
    "print(type(data))\n",
    "print(data.dtype)\n",
    "print(data.shape)"
   ]
  },
  {
   "cell_type": "markdown",
   "metadata": {},
   "source": [
    "## Let's swap the red channel with the blue channel\n",
    "\n",
    "This is the pure python version:"
   ]
  },
  {
   "cell_type": "code",
   "execution_count": null,
   "metadata": {
    "collapsed": true
   },
   "outputs": [],
   "source": [
    "def red_to_blue_python(data):\n",
    "    result = np.zeros_like(data)\n",
    "    for i in range(data.shape[0]):\n",
    "        for j in range(data.shape[1]):\n",
    "            r = data[i, j, 0]\n",
    "            g = data[i, j, 1]\n",
    "            b = data[i, j, 2]\n",
    "            result[i, j, 0] = b\n",
    "            result[i, j, 1] = g\n",
    "            result[i, j, 2] = r\n",
    "    return result"
   ]
  },
  {
   "cell_type": "markdown",
   "metadata": {},
   "source": [
    "## Change the color"
   ]
  },
  {
   "cell_type": "code",
   "execution_count": null,
   "metadata": {
    "collapsed": false
   },
   "outputs": [],
   "source": [
    "bluedata = red_to_blue_python(data)\n",
    "imshow(bluedata)"
   ]
  },
  {
   "cell_type": "markdown",
   "metadata": {},
   "source": [
    "## Convert the code to Cython!"
   ]
  },
  {
   "cell_type": "code",
   "execution_count": null,
   "metadata": {
    "collapsed": false
   },
   "outputs": [],
   "source": [
    "%%cython -a  \n",
    "\n",
    "import numpy as np  # For allocating memory\n",
    "ctypedef unsigned char byte  # Convenience\n",
    "\n",
    "cpdef byte[:,:,:] red_to_blue_cython(byte[:,:,:] data):\n",
    "    cdef byte[:, :, :] result = np.zeros_like(data)\n",
    "    cdef int i, j  # Loop variables\n",
    "    cdef byte r, g, b  # color components\n",
    "    for i in range(data.shape[0]):\n",
    "        for j in range(data.shape[1]):\n",
    "            r = data[i, j, 0]\n",
    "            g = data[i, j, 1]\n",
    "            b = data[i, j, 2]\n",
    "            result[i,j,0] = b\n",
    "            result[i,j,1] = g\n",
    "            result[i,j,2] = r\n",
    "    return result"
   ]
  },
  {
   "cell_type": "code",
   "execution_count": null,
   "metadata": {
    "collapsed": false
   },
   "outputs": [],
   "source": [
    "bluedata_cy = red_to_blue_cython(data)\n",
    "imshow(bluedata_cy)"
   ]
  },
  {
   "cell_type": "markdown",
   "metadata": {},
   "source": [
    "# Performance"
   ]
  },
  {
   "cell_type": "code",
   "execution_count": null,
   "metadata": {
    "collapsed": false
   },
   "outputs": [],
   "source": [
    "data = load_image_data('pepper-small.jpeg')\n",
    "%timeit result = red_to_blue_python(data)\n",
    "%timeit result = red_to_blue_cython(data)"
   ]
  },
  {
   "cell_type": "markdown",
   "metadata": {},
   "source": [
    "# What about a much bigger picture?"
   ]
  },
  {
   "cell_type": "code",
   "execution_count": null,
   "metadata": {
    "collapsed": false
   },
   "outputs": [],
   "source": [
    "data_big = load_image_data('pepper.jpg')\n",
    "figure(figsize=(20,20))  # These are \"inches\"\n",
    "print(data_big.shape)\n",
    "imshow(data_big)"
   ]
  },
  {
   "cell_type": "markdown",
   "metadata": {},
   "source": [
    "## Big picture performance"
   ]
  },
  {
   "cell_type": "code",
   "execution_count": null,
   "metadata": {
    "collapsed": false
   },
   "outputs": [],
   "source": [
    "%timeit result = red_to_blue_python(data_big)\n",
    "%timeit result = red_to_blue_cython(data_big)"
   ]
  },
  {
   "cell_type": "markdown",
   "metadata": {},
   "source": [
    "# Enjoy the big blue chillis!"
   ]
  },
  {
   "cell_type": "code",
   "execution_count": null,
   "metadata": {
    "collapsed": false
   },
   "outputs": [],
   "source": [
    "figure(figsize=(20,20))  # These are \"inches\"\n",
    "imshow(red_to_blue_cython(data_big))"
   ]
  },
  {
   "cell_type": "code",
   "execution_count": null,
   "metadata": {
    "collapsed": true
   },
   "outputs": [],
   "source": []
  }
 ],
 "metadata": {
  "kernelspec": {
   "display_name": "Python 3",
   "language": "python",
   "name": "python3"
  },
  "language_info": {
   "codemirror_mode": {
    "name": "ipython",
    "version": 3
   },
   "file_extension": ".py",
   "mimetype": "text/x-python",
   "name": "python",
   "nbconvert_exporter": "python",
   "pygments_lexer": "ipython3",
   "version": "3.4.4"
  }
 },
 "nbformat": 4,
 "nbformat_minor": 0
}
