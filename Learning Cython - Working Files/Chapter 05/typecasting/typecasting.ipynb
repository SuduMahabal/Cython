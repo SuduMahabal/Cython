{
 "cells": [
  {
   "cell_type": "code",
   "execution_count": null,
   "metadata": {
    "collapsed": true
   },
   "outputs": [],
   "source": [
    "%load_ext cython"
   ]
  },
  {
   "cell_type": "markdown",
   "metadata": {},
   "source": [
    "# Type-casting\n",
    "\n",
    "## Void pointers\n",
    "### Better name: \"general-purpose pointer\""
   ]
  },
  {
   "cell_type": "code",
   "execution_count": null,
   "metadata": {
    "collapsed": false
   },
   "outputs": [],
   "source": [
    "%%cython\n",
    "\n",
    "# General purpose pointer - no type given\n",
    "cdef void* p\n",
    "\n",
    "# Oh hey, let's save the address to an int\n",
    "cdef int x = 123\n",
    "p = &x\n",
    "\n",
    "# How to use the void pointer?  You need casting:\n",
    "cdef int* px = <int*>p\n",
    "print(px[0])\n",
    "\n",
    "# Can also SAME POINTER for a double\n",
    "cdef double y = 0.1\n",
    "p = &y\n",
    "\n",
    "# And out again\n",
    "cdef double* py = <double*>p\n",
    "print(py[0])"
   ]
  },
  {
   "cell_type": "markdown",
   "metadata": {},
   "source": [
    "## Address of Python objects"
   ]
  },
  {
   "cell_type": "code",
   "execution_count": null,
   "metadata": {
    "collapsed": false
   },
   "outputs": [],
   "source": [
    "%%cython\n",
    "\n",
    "x = ['a', 'b', 'c']\n",
    "\n",
    "cdef void* p = <void*>x  # Get a void pointer to the Python object\n",
    "\n",
    "# Surprise! The memory address is the same as the object id()\n",
    "print(<long>p)\n",
    "print(id(x))\n",
    "\n",
    "# By type-casting to <object>, you can get the original \n",
    "# Python object back\n",
    "print(<object>p)"
   ]
  },
  {
   "cell_type": "markdown",
   "metadata": {},
   "source": [
    "## Rename types with  `ctypedef`"
   ]
  },
  {
   "cell_type": "code",
   "execution_count": null,
   "metadata": {
    "collapsed": false
   },
   "outputs": [],
   "source": [
    "%%cython\n",
    "\n",
    "# Sometimes \"unsigned long long\" is too much to type\n",
    "# Let's rather call it \"uint64\"\n",
    "ctypedef unsigned long long uint64\n",
    "\n",
    "# Now functions are easier to write\n",
    "cdef uint64 f(uint64 x):\n",
    "    return x / 2\n",
    "\n",
    "print(f(2**16))"
   ]
  },
  {
   "cell_type": "markdown",
   "metadata": {},
   "source": [
    "## Function pointers"
   ]
  },
  {
   "cell_type": "code",
   "execution_count": null,
   "metadata": {
    "collapsed": false
   },
   "outputs": [],
   "source": [
    "%%cython\n",
    "\n",
    "# Original function\n",
    "cdef double f(int x):\n",
    "    return x / 10.0\n",
    "\n",
    "# \"Type\" of the function\n",
    "ctypedef double(*function_type)(int)\n",
    "\n",
    "# Declare new function pointer\n",
    "cdef function_type x\n",
    "x = &f  # x now points at function f\n",
    "\n",
    "# Test it out\n",
    "print(x(2))"
   ]
  },
  {
   "cell_type": "code",
   "execution_count": null,
   "metadata": {
    "collapsed": true
   },
   "outputs": [],
   "source": []
  }
 ],
 "metadata": {
  "kernelspec": {
   "display_name": "Python 3",
   "language": "python",
   "name": "python3"
  },
  "language_info": {
   "codemirror_mode": {
    "name": "ipython",
    "version": 3
   },
   "file_extension": ".py",
   "mimetype": "text/x-python",
   "name": "python",
   "nbconvert_exporter": "python",
   "pygments_lexer": "ipython3",
   "version": "3.4.4"
  }
 },
 "nbformat": 4,
 "nbformat_minor": 0
}
