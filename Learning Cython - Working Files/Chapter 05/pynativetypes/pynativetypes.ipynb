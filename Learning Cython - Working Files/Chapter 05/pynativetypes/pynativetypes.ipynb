{
 "cells": [
  {
   "cell_type": "code",
   "execution_count": null,
   "metadata": {
    "collapsed": false
   },
   "outputs": [],
   "source": [
    "%load_ext cython"
   ]
  },
  {
   "cell_type": "markdown",
   "metadata": {},
   "source": [
    "# Return integers to Python (no problems)"
   ]
  },
  {
   "cell_type": "code",
   "execution_count": null,
   "metadata": {
    "collapsed": false
   },
   "outputs": [],
   "source": [
    "%%cython\n",
    "\n",
    "def f1():\n",
    "    # 2 bytes\n",
    "    cdef short x = 1\n",
    "    return x\n",
    "\n",
    "def f2():\n",
    "    # 4 bytes\n",
    "    cdef int x = 1\n",
    "    return x\n",
    "\n",
    "def f3():\n",
    "    # 4 or 8 bytes, depends on your OS\n",
    "    cdef long x = 1\n",
    "    return x\n",
    "\n",
    "def f4():\n",
    "    # 8 bytes\n",
    "    cdef long long x = 1\n",
    "    return x"
   ]
  },
  {
   "cell_type": "code",
   "execution_count": null,
   "metadata": {
    "collapsed": false
   },
   "outputs": [],
   "source": [
    "print(type(f1()))\n",
    "print(type(f2()))\n",
    "print(type(f3()))\n",
    "print(type(f4()))"
   ]
  },
  {
   "cell_type": "markdown",
   "metadata": {},
   "source": [
    "# (How to calculate max integers)"
   ]
  },
  {
   "cell_type": "code",
   "execution_count": null,
   "metadata": {
    "collapsed": false
   },
   "outputs": [],
   "source": [
    "# Biggest unsigned short, 2 bytes => 16 bits\n",
    "print(2**16 - 1)\n",
    "# Biggest unsigned int, 4 bytes => 32 bits\n",
    "print(2**32 - 1)\n",
    "# Biggest unsigned long long, 8 bytes => 64 bits\n",
    "print(2**64 - 1)"
   ]
  },
  {
   "cell_type": "markdown",
   "metadata": {},
   "source": [
    "# Getting integers from Python (ouch!)"
   ]
  },
  {
   "cell_type": "markdown",
   "metadata": {},
   "source": [
    "Python can handle very big numbers.  Be careful passing big numbers into Cython functions."
   ]
  },
  {
   "cell_type": "code",
   "execution_count": null,
   "metadata": {
    "collapsed": true
   },
   "outputs": [],
   "source": [
    "%%cython\n",
    "\n",
    "cpdef can_handle_ushort(unsigned short x):\n",
    "    return x\n",
    "\n",
    "cpdef can_handle_uint(unsigned int x):\n",
    "    return x\n",
    "\n",
    "cpdef can_handle_ulong_long(unsigned long long x):\n",
    "    return x"
   ]
  },
  {
   "cell_type": "code",
   "execution_count": null,
   "metadata": {
    "collapsed": false
   },
   "outputs": [],
   "source": [
    "can_handle_ushort(2**16-1)"
   ]
  },
  {
   "cell_type": "code",
   "execution_count": null,
   "metadata": {
    "collapsed": false
   },
   "outputs": [],
   "source": [
    "can_handle_ushort(2**16)"
   ]
  },
  {
   "cell_type": "code",
   "execution_count": null,
   "metadata": {
    "collapsed": false
   },
   "outputs": [],
   "source": [
    "can_handle_uint(2**32-1)"
   ]
  },
  {
   "cell_type": "code",
   "execution_count": null,
   "metadata": {
    "collapsed": false
   },
   "outputs": [],
   "source": [
    "can_handle_uint(2**32)"
   ]
  },
  {
   "cell_type": "code",
   "execution_count": null,
   "metadata": {
    "collapsed": false
   },
   "outputs": [],
   "source": [
    "can_handle_ulong_long(2**64-1)"
   ]
  },
  {
   "cell_type": "code",
   "execution_count": null,
   "metadata": {
    "collapsed": false
   },
   "outputs": [],
   "source": [
    "can_handle_ulong_long(2**64)"
   ]
  },
  {
   "cell_type": "code",
   "execution_count": null,
   "metadata": {
    "collapsed": true
   },
   "outputs": [],
   "source": []
  }
 ],
 "metadata": {
  "kernelspec": {
   "display_name": "Python 3",
   "language": "python",
   "name": "python3"
  },
  "language_info": {
   "codemirror_mode": {
    "name": "ipython",
    "version": 3
   },
   "file_extension": ".py",
   "mimetype": "text/x-python",
   "name": "python",
   "nbconvert_exporter": "python",
   "pygments_lexer": "ipython3",
   "version": "3.4.4"
  }
 },
 "nbformat": 4,
 "nbformat_minor": 0
}
