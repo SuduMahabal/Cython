{
 "cells": [
  {
   "cell_type": "code",
   "execution_count": null,
   "metadata": {
    "collapsed": false
   },
   "outputs": [],
   "source": [
    "%load_ext cython"
   ]
  },
  {
   "cell_type": "markdown",
   "metadata": {},
   "source": [
    "# Auto-conversion of strings"
   ]
  },
  {
   "cell_type": "code",
   "execution_count": null,
   "metadata": {
    "collapsed": true
   },
   "outputs": [],
   "source": [
    "%%cython\n",
    "# cython: language_level=3\n",
    "\n",
    "def f(char* text):\n",
    "    print(text)"
   ]
  },
  {
   "cell_type": "code",
   "execution_count": null,
   "metadata": {
    "collapsed": false
   },
   "outputs": [],
   "source": [
    "f('It is I, Arthur, son of Uther Pendragon')"
   ]
  },
  {
   "cell_type": "markdown",
   "metadata": {},
   "source": [
    "### Must use bytes!"
   ]
  },
  {
   "cell_type": "code",
   "execution_count": null,
   "metadata": {
    "collapsed": false
   },
   "outputs": [],
   "source": [
    "f(b'It is I, Arthur, son of Uther Pendragon')"
   ]
  },
  {
   "cell_type": "markdown",
   "metadata": {},
   "source": [
    "# Passing Python strings in"
   ]
  },
  {
   "cell_type": "code",
   "execution_count": null,
   "metadata": {
    "collapsed": true
   },
   "outputs": [],
   "source": [
    "%%cython\n",
    "# cython: language_level=3\n",
    "\n",
    "def g(str text):\n",
    "    print(text)"
   ]
  },
  {
   "cell_type": "code",
   "execution_count": null,
   "metadata": {
    "collapsed": false
   },
   "outputs": [],
   "source": [
    "g('It is I, Arthur, son of Uther Pendragon')"
   ]
  },
  {
   "cell_type": "markdown",
   "metadata": {},
   "source": [
    "# Passing Python strings, working with C strings"
   ]
  },
  {
   "cell_type": "markdown",
   "metadata": {},
   "source": [
    "Assigning Python unicode string to a C string"
   ]
  },
  {
   "cell_type": "code",
   "execution_count": null,
   "metadata": {
    "collapsed": false
   },
   "outputs": [],
   "source": [
    "%%cython\n",
    "\n",
    "def f(str text):\n",
    "    cdef char *s\n",
    "    s = text\n",
    "    print(s)\n",
    "    \n",
    "f('What? A swallow carrying a coconut?')"
   ]
  },
  {
   "cell_type": "markdown",
   "metadata": {},
   "source": [
    "Even assign after encode fails..."
   ]
  },
  {
   "cell_type": "code",
   "execution_count": null,
   "metadata": {
    "collapsed": false
   },
   "outputs": [],
   "source": [
    "%%cython\n",
    "\n",
    "def f(str text):\n",
    "    cdef char *s\n",
    "    s = text.encode('utf-8')\n",
    "    print(s)\n",
    "    \n",
    "f('A five ounce bird could not carry a 1 pound coconut.')"
   ]
  },
  {
   "cell_type": "markdown",
   "metadata": {},
   "source": [
    "**You must have a Python unicode string variable**"
   ]
  },
  {
   "cell_type": "code",
   "execution_count": null,
   "metadata": {
    "collapsed": false
   },
   "outputs": [],
   "source": [
    "%%cython\n",
    "\n",
    "def f(str text):\n",
    "    cdef char *s\n",
    "    bstr = text.encode('utf-8')\n",
    "    s = bstr\n",
    "    print(s)\n",
    "    \n",
    "f('It could be carried by an African swallow!')"
   ]
  },
  {
   "cell_type": "markdown",
   "metadata": {},
   "source": [
    "# Just use Python strings"
   ]
  },
  {
   "cell_type": "code",
   "execution_count": null,
   "metadata": {
    "collapsed": false
   },
   "outputs": [],
   "source": [
    "%%cython\n",
    "from libc.string cimport strcat\n",
    "\n",
    "def f1(a, b):\n",
    "    \"\"\" A lot of effort to use strcat \"\"\"\n",
    "    cdef:\n",
    "        char* ca  # Declare C strings\n",
    "        char* cb\n",
    "    pa = a.encode('utf-8')  # Make a bytes object\n",
    "    pb = b.encode('utf-8')\n",
    "    ca = pa  # Assign bytes to the C strings\n",
    "    cb = pb\n",
    "    strcat(ca, cb)  # Call the API method\n",
    "    pout = ca.decode('utf-8')\n",
    "    return pout\n",
    "\n",
    "def f2(a, b):\n",
    "    \"\"\" Python: much easier \"\"\"\n",
    "    return a + b"
   ]
  },
  {
   "cell_type": "code",
   "execution_count": null,
   "metadata": {
    "collapsed": false
   },
   "outputs": [],
   "source": [
    "%timeit -n 1000 f1('first part', 'second part')\n",
    "%timeit -n 1000 f2('first part', 'second part')"
   ]
  },
  {
   "cell_type": "code",
   "execution_count": null,
   "metadata": {
    "collapsed": true
   },
   "outputs": [],
   "source": []
  }
 ],
 "metadata": {
  "kernelspec": {
   "display_name": "Python 3",
   "language": "python",
   "name": "python3"
  },
  "language_info": {
   "codemirror_mode": {
    "name": "ipython",
    "version": 3
   },
   "file_extension": ".py",
   "mimetype": "text/x-python",
   "name": "python",
   "nbconvert_exporter": "python",
   "pygments_lexer": "ipython3",
   "version": "3.4.4"
  }
 },
 "nbformat": 4,
 "nbformat_minor": 0
}
