{
 "cells": [
  {
   "cell_type": "code",
   "execution_count": null,
   "metadata": {
    "collapsed": true
   },
   "outputs": [],
   "source": [
    "%load_ext cython"
   ]
  },
  {
   "cell_type": "code",
   "execution_count": null,
   "metadata": {
    "collapsed": true
   },
   "outputs": [],
   "source": [
    "def f():\n",
    "    continent_index = 3  # Africa = 0, S.America = 1, Australia = 2, etc.\n",
    "    wonder_of_the_world = 6  # Giza = 0, Babylon = 1, Olympia = 2, etc. \n",
    "    age = 21  # years\n",
    "    height = 1.83  # metres\n",
    "    total_debt = 18000000000000  # 18 trillion\n",
    "    depth = -60.123  # metres\n",
    "    milky_way_mass = 6e42  # kg\n",
    "    valid = False\n",
    "    return (continent_index + age + height \n",
    "            + total_debt + milky_way_mass)"
   ]
  },
  {
   "cell_type": "code",
   "execution_count": null,
   "metadata": {
    "collapsed": false
   },
   "outputs": [],
   "source": [
    "f()"
   ]
  },
  {
   "cell_type": "markdown",
   "metadata": {},
   "source": [
    "# Adding Cython types"
   ]
  },
  {
   "cell_type": "code",
   "execution_count": null,
   "metadata": {
    "collapsed": false
   },
   "outputs": [],
   "source": [
    "%%cython -a\n",
    "def f():\n",
    "    cdef:\n",
    "        unsigned char continent_index = 3, wonder_of_the_world = 6\n",
    "        int age = 21  # years\n",
    "        float height = 1.83, depth = -60.123  # metres\n",
    "        long long total_debt = 18000000000000  # 18 trillion\n",
    "        double milky_way_mass = 6e42  # kg\n",
    "        bint valid = False\n",
    "    return (continent_index + age + height \n",
    "            + total_debt + milky_way_mass)"
   ]
  },
  {
   "cell_type": "code",
   "execution_count": null,
   "metadata": {
    "collapsed": false
   },
   "outputs": [],
   "source": [
    "f()"
   ]
  },
  {
   "cell_type": "code",
   "execution_count": null,
   "metadata": {
    "collapsed": true
   },
   "outputs": [],
   "source": []
  }
 ],
 "metadata": {
  "kernelspec": {
   "display_name": "Python 3",
   "language": "python",
   "name": "python3"
  },
  "language_info": {
   "codemirror_mode": {
    "name": "ipython",
    "version": 3
   },
   "file_extension": ".py",
   "mimetype": "text/x-python",
   "name": "python",
   "nbconvert_exporter": "python",
   "pygments_lexer": "ipython3",
   "version": "3.4.4"
  }
 },
 "nbformat": 4,
 "nbformat_minor": 0
}
