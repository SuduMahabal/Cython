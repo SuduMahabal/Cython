{
 "cells": [
  {
   "cell_type": "code",
   "execution_count": null,
   "metadata": {
    "collapsed": false
   },
   "outputs": [],
   "source": [
    "%load_ext cython"
   ]
  },
  {
   "cell_type": "markdown",
   "metadata": {},
   "source": [
    "# Plain Python: modulo (`%`) in a loop"
   ]
  },
  {
   "cell_type": "code",
   "execution_count": null,
   "metadata": {
    "collapsed": true
   },
   "outputs": [],
   "source": [
    "def p(n, m):\n",
    "    output = 0\n",
    "    for i in range(n):\n",
    "        output += i % m\n",
    "    return output"
   ]
  },
  {
   "cell_type": "code",
   "execution_count": null,
   "metadata": {
    "collapsed": false
   },
   "outputs": [],
   "source": [
    "%timeit p(1000000, 42)"
   ]
  },
  {
   "cell_type": "markdown",
   "metadata": {},
   "source": [
    "# Still Python, but inside a Cython cell"
   ]
  },
  {
   "cell_type": "markdown",
   "metadata": {},
   "source": [
    "There are still no types declared, but you get a surprising speedup."
   ]
  },
  {
   "cell_type": "code",
   "execution_count": null,
   "metadata": {
    "collapsed": false
   },
   "outputs": [],
   "source": [
    "%%cython\n",
    "\n",
    "def f(n, m):\n",
    "    output = 0\n",
    "    for i in range(n):\n",
    "        output += i % m\n",
    "    return output"
   ]
  },
  {
   "cell_type": "code",
   "execution_count": null,
   "metadata": {
    "collapsed": false
   },
   "outputs": [],
   "source": [
    "%timeit f(1000000, 42)"
   ]
  },
  {
   "cell_type": "markdown",
   "metadata": {},
   "source": [
    "# Cython: give types to all variables"
   ]
  },
  {
   "cell_type": "code",
   "execution_count": null,
   "metadata": {
    "collapsed": false
   },
   "outputs": [],
   "source": [
    "%%cython\n",
    "\n",
    "def c(int n):\n",
    "    cdef int i, output\n",
    "    for i in range(n):\n",
    "        output += i % 42\n",
    "    return output"
   ]
  },
  {
   "cell_type": "code",
   "execution_count": null,
   "metadata": {
    "collapsed": false
   },
   "outputs": [],
   "source": [
    "%timeit c(1000000)"
   ]
  },
  {
   "cell_type": "markdown",
   "metadata": {},
   "source": [
    "# Example of a `while` loop"
   ]
  },
  {
   "cell_type": "code",
   "execution_count": null,
   "metadata": {
    "collapsed": false
   },
   "outputs": [],
   "source": [
    "%%cython\n",
    "\n",
    "def w(int n):\n",
    "    cdef int i = 0, output\n",
    "    while i < n:\n",
    "        output += i % 42\n",
    "        i += 1\n",
    "    return output"
   ]
  },
  {
   "cell_type": "code",
   "execution_count": null,
   "metadata": {
    "collapsed": false
   },
   "outputs": [],
   "source": [
    "%timeit w(1000000)"
   ]
  },
  {
   "cell_type": "markdown",
   "metadata": {},
   "source": [
    "# Application: custom random number generator"
   ]
  },
  {
   "cell_type": "markdown",
   "metadata": {},
   "source": [
    "Numpy only generates 32-bit random integers.  Let's make a 64-bit random integer generator!"
   ]
  },
  {
   "cell_type": "code",
   "execution_count": null,
   "metadata": {
    "collapsed": false
   },
   "outputs": [],
   "source": [
    "%%cython\n",
    "cimport cython\n",
    "\n",
    "# This code was translated to Cython from a \n",
    "# wikipedia article at:\n",
    "#\n",
    "# https://en.wikipedia.org/wiki/Xorshift\n",
    "#\n",
    "#         \"Xorshift random number generators are a \n",
    "#         class of pseudorandom number generators that \n",
    "#         was discovered by George Marsaglia.[1] They \n",
    "#         generate the next number in their sequence \n",
    "#         by repeatedly taking the exclusive or of a \n",
    "#         number with a bit shifted version of itself. \n",
    "#         This makes them extremely fast on modern \n",
    "#         computer architectures\"\n",
    "#\n",
    "#         \"A naive C implementation of a xorshift+ generator \n",
    "#         that passes all tests from the BigCrush suite \n",
    "#         (with an order of magnitude fewer failures than \n",
    "#         Mersenne Twister or WELL) typically takes fewer \n",
    "#         than 10 clock cycles on x86 to generate a random \n",
    "#         number, thanks to instruction pipelining.\"\n",
    "\n",
    "\n",
    "cdef unsigned long long s[2]  # Seed: initialize to nonzero\n",
    "cdef inline unsigned long long xorshiftplus():\n",
    "    \"\"\" Direct translation from Wikipedia page \"\"\"\n",
    "    cdef unsigned long long x = s[0]\n",
    "    cdef unsigned long long y = s[1]\n",
    "    s[0] = y\n",
    "    x ^= x << 23  # a\n",
    "    x ^= x >> 17  # b\n",
    "    x ^= y^(y>>26) # c\n",
    "    s[1] = x\n",
    "    return x + y\n",
    "\n",
    "@cython.boundscheck(False)\n",
    "def random_array(unsigned long long[:] output):\n",
    "    \"\"\" Array must be already be sized \"\"\"\n",
    "    s[0] = 1  # Set the seed\n",
    "    s[1] = 2\n",
    "    cdef int i, n = output.shape[0] \n",
    "    for i in range(n):\n",
    "        output[i] = xorshiftplus()"
   ]
  },
  {
   "cell_type": "markdown",
   "metadata": {},
   "source": [
    "### Quick demo"
   ]
  },
  {
   "cell_type": "code",
   "execution_count": null,
   "metadata": {
    "collapsed": false
   },
   "outputs": [],
   "source": [
    "# Create storage for our 8-byte random numbers\n",
    "import numpy\n",
    "output = numpy.zeros(10, dtype=numpy.uint64)\n",
    "random_array(output)\n",
    "print(output)"
   ]
  },
  {
   "cell_type": "markdown",
   "metadata": {},
   "source": [
    "## Speed test - compare Cython and Numpy"
   ]
  },
  {
   "cell_type": "markdown",
   "metadata": {},
   "source": [
    "Note: Numpy generates only **32-bit** integers, but uses the **Mersenne Twister** algorithm.  Our Cython function generates **64-bit** integers, but uses the **Xorshift+** algorithm."
   ]
  },
  {
   "cell_type": "code",
   "execution_count": null,
   "metadata": {
    "collapsed": false
   },
   "outputs": [],
   "source": [
    "n = int(1e8)  # 100 million random numbers\n",
    "output = numpy.zeros(n, dtype=numpy.uint64)\n",
    "%timeit random_array(output)\n",
    "%timeit y = numpy.random.randint(low=0, high=2**31 - 1, size=n)"
   ]
  },
  {
   "cell_type": "code",
   "execution_count": null,
   "metadata": {
    "collapsed": true
   },
   "outputs": [],
   "source": []
  }
 ],
 "metadata": {
  "kernelspec": {
   "display_name": "Python 3",
   "language": "python",
   "name": "python3"
  },
  "language_info": {
   "codemirror_mode": {
    "name": "ipython",
    "version": 3
   },
   "file_extension": ".py",
   "mimetype": "text/x-python",
   "name": "python",
   "nbconvert_exporter": "python",
   "pygments_lexer": "ipython3",
   "version": "3.4.4"
  }
 },
 "nbformat": 4,
 "nbformat_minor": 0
}
