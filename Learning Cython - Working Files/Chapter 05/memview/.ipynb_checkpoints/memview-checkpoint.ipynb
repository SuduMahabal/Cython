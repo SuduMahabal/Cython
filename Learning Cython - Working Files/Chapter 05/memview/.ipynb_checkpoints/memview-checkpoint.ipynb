{
 "cells": [
  {
   "cell_type": "code",
   "execution_count": null,
   "metadata": {
    "collapsed": false
   },
   "outputs": [],
   "source": [
    "%load_ext cython"
   ]
  },
  {
   "cell_type": "markdown",
   "metadata": {},
   "source": [
    "# Dynamic arrays: allocate memory"
   ]
  },
  {
   "cell_type": "code",
   "execution_count": null,
   "metadata": {
    "collapsed": false
   },
   "outputs": [],
   "source": [
    "n = 1000000\n",
    "\n",
    "# Built-in Python arrays\n",
    "\n",
    "from array import array\n",
    "x_python = array('i', [0]*n)  # \"i\" means a C signed int\n",
    "print('Python array item size: {} bytes'.format(x_python.itemsize))\n",
    "\n",
    "# Numpy array\n",
    "\n",
    "import numpy\n",
    "x_numpy = numpy.zeros(n, dtype=numpy.intc)\n",
    "print('Numpy array item size : {} bytes'.format(x_numpy.itemsize))"
   ]
  },
  {
   "cell_type": "markdown",
   "metadata": {},
   "source": [
    "# Accept either via memory view"
   ]
  },
  {
   "cell_type": "code",
   "execution_count": null,
   "metadata": {
    "collapsed": false
   },
   "outputs": [],
   "source": [
    "%%cython\n",
    "# cython: language_level=3\n",
    "\n",
    "cpdef memviewprops(int[:] x):\n",
    "    print('{:10}:{}'.format('shape',x.shape))\n",
    "    print('{:10}:{}'.format('strides', x.strides))\n",
    "    print('{:10}:{}'.format('suboffsets', x.suboffsets))\n",
    "    print('{:10}:{}'.format('ndim', x.ndim))\n",
    "    print('{:10}:{}'.format('size', x.size))\n",
    "    print('{:10}:{}'.format('itemsize', x.itemsize))\n",
    "    print('{:10}:{}'.format('nbytes', x.nbytes))"
   ]
  },
  {
   "cell_type": "code",
   "execution_count": null,
   "metadata": {
    "collapsed": false
   },
   "outputs": [],
   "source": [
    "print('Memory properties from a Python array')\n",
    "print()\n",
    "memviewprops(x_python)\n",
    "\n",
    "print()\n",
    "print('Memory properties from a Numpy array')\n",
    "print()\n",
    "memviewprops(x_numpy)"
   ]
  },
  {
   "cell_type": "markdown",
   "metadata": {},
   "source": [
    "# Creating dynamic arrays with Cython itself"
   ]
  },
  {
   "cell_type": "code",
   "execution_count": null,
   "metadata": {
    "collapsed": true
   },
   "outputs": [],
   "source": [
    "%%cython\n",
    "# cython: language_level=3\n",
    "\n",
    "from cython.view cimport array\n",
    "\n",
    "cdef memviewprops(int[:] x):\n",
    "    print('{:10}:{}'.format('shape',x.shape))\n",
    "    print('{:10}:{}'.format('strides', x.strides))\n",
    "    print('{:10}:{}'.format('suboffsets', x.suboffsets))\n",
    "    print('{:10}:{}'.format('ndim', x.ndim))\n",
    "    print('{:10}:{}'.format('size', x.size))\n",
    "    print('{:10}:{}'.format('itemsize', x.itemsize))\n",
    "    print('{:10}:{}'.format('nbytes', x.nbytes))\n",
    "    return \n",
    "   \n",
    "def cythonviewprops(n):\n",
    "    x_cython = array(shape=(n,), itemsize=sizeof(int), format='i')\n",
    "    memviewprops(x_cython)"
   ]
  },
  {
   "cell_type": "code",
   "execution_count": null,
   "metadata": {
    "collapsed": false
   },
   "outputs": [],
   "source": [
    "cythonviewprops(n)"
   ]
  },
  {
   "cell_type": "markdown",
   "metadata": {},
   "source": [
    "# Bonus: memview also works with static C arrays"
   ]
  },
  {
   "cell_type": "code",
   "execution_count": null,
   "metadata": {
    "collapsed": false
   },
   "outputs": [],
   "source": [
    "%%cython\n",
    "# cython: language_level=3\n",
    "\n",
    "cdef memviewprops(int[:] x):\n",
    "    print('{:10}:{}'.format('shape',x.shape))\n",
    "    print('{:10}:{}'.format('strides', x.strides))\n",
    "    print('{:10}:{}'.format('suboffsets', x.suboffsets))\n",
    "    print('{:10}:{}'.format('ndim', x.ndim))\n",
    "    print('{:10}:{}'.format('size', x.size))\n",
    "    print('{:10}:{}'.format('itemsize', x.itemsize))\n",
    "    print('{:10}:{}'.format('nbytes', x.nbytes))\n",
    "\n",
    "def staticprops(n):\n",
    "    cdef int x_static[1000000]\n",
    "    memviewprops(x_static)"
   ]
  },
  {
   "cell_type": "code",
   "execution_count": null,
   "metadata": {
    "collapsed": false
   },
   "outputs": [],
   "source": [
    "staticprops(n)"
   ]
  },
  {
   "cell_type": "markdown",
   "metadata": {},
   "source": [
    "# Memory views work with slices"
   ]
  },
  {
   "cell_type": "code",
   "execution_count": null,
   "metadata": {
    "collapsed": false
   },
   "outputs": [],
   "source": [
    "%%cython\n",
    "\n",
    "cdef f(int[:,:] view, int num):\n",
    "    view[-2:,-2:] = num\n",
    "    \n",
    "def main():\n",
    "    import numpy\n",
    "    x = numpy.zeros(shape=(4, 4), dtype=numpy.intc)\n",
    "    f(x, 1)\n",
    "    print x\n",
    "    \n",
    "main()"
   ]
  },
  {
   "cell_type": "markdown",
   "metadata": {},
   "source": [
    "## Slicing makes copying easier"
   ]
  },
  {
   "cell_type": "code",
   "execution_count": null,
   "metadata": {
    "collapsed": false
   },
   "outputs": [],
   "source": [
    "%%cython\n",
    "# cython: language_level=3\n",
    "\n",
    "cdef copy(double[:] x, double[:] out):\n",
    "    \" Copy x values into out \"\n",
    "    out[:] = x\n",
    "    \n",
    "def main():\n",
    "    import numpy\n",
    "    import array\n",
    "    # Empty Python array\n",
    "    py_array = array.array('d', [0]) * 3\n",
    "    # Numpy array: random values\n",
    "    npy_array = numpy.random.rand(3) # Random values\n",
    "    # Call function\n",
    "    copy(npy_array, py_array)\n",
    "    print(py_array)\n",
    "    \n",
    "main()"
   ]
  },
  {
   "cell_type": "markdown",
   "metadata": {},
   "source": [
    "# And now for something completely different"
   ]
  },
  {
   "cell_type": "markdown",
   "metadata": {},
   "source": [
    "### Array creation, which is faster?"
   ]
  },
  {
   "cell_type": "code",
   "execution_count": null,
   "metadata": {
    "collapsed": false
   },
   "outputs": [],
   "source": [
    "def f1(n):\n",
    "    return array('i', [0]*n)  # Big list, then array\n",
    "    \n",
    "def f2(n):\n",
    "    return array('i', [0])*n  # Small list, expand array\n",
    "\n",
    "def f3(n):\n",
    "    return numpy.zeros(n, dtype=numpy.intc)"
   ]
  },
  {
   "cell_type": "code",
   "execution_count": null,
   "metadata": {
    "collapsed": false
   },
   "outputs": [],
   "source": [
    "%timeit f1(10000000)\n",
    "%timeit f2(10000000)\n",
    "%timeit f3(10000000)"
   ]
  },
  {
   "cell_type": "code",
   "execution_count": null,
   "metadata": {
    "collapsed": true
   },
   "outputs": [],
   "source": []
  }
 ],
 "metadata": {
  "kernelspec": {
   "display_name": "Python 3",
   "language": "python",
   "name": "python3"
  },
  "language_info": {
   "codemirror_mode": {
    "name": "ipython",
    "version": 3
   },
   "file_extension": ".py",
   "mimetype": "text/x-python",
   "name": "python",
   "nbconvert_exporter": "python",
   "pygments_lexer": "ipython3",
   "version": "3.4.4"
  }
 },
 "nbformat": 4,
 "nbformat_minor": 0
}
