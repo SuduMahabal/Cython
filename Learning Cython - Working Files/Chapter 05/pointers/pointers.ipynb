{
 "cells": [
  {
   "cell_type": "code",
   "execution_count": null,
   "metadata": {
    "collapsed": true
   },
   "outputs": [],
   "source": [
    "%load_ext cython"
   ]
  },
  {
   "cell_type": "markdown",
   "metadata": {},
   "source": [
    "# Pointers in Cython: basics"
   ]
  },
  {
   "cell_type": "code",
   "execution_count": null,
   "metadata": {
    "collapsed": false
   },
   "outputs": [],
   "source": [
    "%%cython\n",
    "\n",
    "# Just a typical double\n",
    "cdef double x = 3.14159\n",
    "\n",
    "# A pointer to a double.  Give it the memory location of x\n",
    "cdef double* px = &x\n",
    "\n",
    "# Dereference using array access\n",
    "print(px[0])"
   ]
  },
  {
   "cell_type": "markdown",
   "metadata": {},
   "source": [
    "# Passing a pointer into a function"
   ]
  },
  {
   "cell_type": "code",
   "execution_count": null,
   "metadata": {
    "collapsed": false
   },
   "outputs": [],
   "source": [
    "%%cython\n",
    "# cython: language_level=3\n",
    "\n",
    "cdef f(int* px):\n",
    "    \"\"\" Hee Hee! Let's modify the value that this pointer\n",
    "    is pointing to. \"\"\"\n",
    "    px[0] += 1    # De-reference with array access\n",
    "    \n",
    "def g():\n",
    "    cdef int x = 0 \n",
    "    cdef int* px  # Declare pointer\n",
    "    px = &x       # Get memory location of x with \"&\"\n",
    "    print('Before calling f: x is ', x)\n",
    "    print('Modify using the pointer')\n",
    "    f(px)\n",
    "    print('After calling f: x is ', x)\n",
    "    \n",
    "g()"
   ]
  },
  {
   "cell_type": "markdown",
   "metadata": {},
   "source": [
    "# Change a Python object through a Pointer"
   ]
  },
  {
   "cell_type": "code",
   "execution_count": null,
   "metadata": {
    "collapsed": false
   },
   "outputs": [],
   "source": [
    "%%cython\n",
    "# cython: language_level=3\n",
    "\n",
    "cdef f(char** ptext):\n",
    "    ptext[0][0] = b'A'    # De-reference with array access\n",
    "    \n",
    "def g():\n",
    "    # Python Bytes. Immutable?  yeah right ;)\n",
    "    text = b'X is the last letter!'  \n",
    "    # C character string\n",
    "    cdef char* ctext\n",
    "    ctext = text  # Get the bytes\n",
    "    \n",
    "    # Changing Python object data via pointer!\n",
    "    print('The python bytes object before mischief:', text)\n",
    "    f(&ctext)\n",
    "    print('The python bytes object after mischief :', text)\n",
    "    \n",
    "g()"
   ]
  },
  {
   "cell_type": "code",
   "execution_count": null,
   "metadata": {
    "collapsed": true
   },
   "outputs": [],
   "source": []
  }
 ],
 "metadata": {
  "kernelspec": {
   "display_name": "Python 3",
   "language": "python",
   "name": "python3"
  },
  "language_info": {
   "codemirror_mode": {
    "name": "ipython",
    "version": 3
   },
   "file_extension": ".py",
   "mimetype": "text/x-python",
   "name": "python",
   "nbconvert_exporter": "python",
   "pygments_lexer": "ipython3",
   "version": "3.4.4"
  }
 },
 "nbformat": 4,
 "nbformat_minor": 0
}
