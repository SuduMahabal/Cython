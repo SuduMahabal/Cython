{
 "cells": [
  {
   "cell_type": "code",
   "execution_count": null,
   "metadata": {
    "collapsed": false
   },
   "outputs": [],
   "source": [
    "%load_ext cython"
   ]
  },
  {
   "cell_type": "markdown",
   "metadata": {},
   "source": [
    "# Static arrays: pretty simple"
   ]
  },
  {
   "cell_type": "code",
   "execution_count": null,
   "metadata": {
    "collapsed": false
   },
   "outputs": [],
   "source": [
    "%%cython\n",
    "\n",
    "def f(int x):\n",
    "    cdef int a[10]  # <--- This is a static array\n",
    "    for i in range(10):\n",
    "        a[i] = x\n",
    "    return a"
   ]
  },
  {
   "cell_type": "code",
   "execution_count": null,
   "metadata": {
    "collapsed": false
   },
   "outputs": [],
   "source": [
    "output = f(3)\n",
    "print(output)"
   ]
  },
  {
   "cell_type": "code",
   "execution_count": null,
   "metadata": {
    "collapsed": false
   },
   "outputs": [],
   "source": [
    "type(output)"
   ]
  },
  {
   "cell_type": "markdown",
   "metadata": {},
   "source": [
    "# Structs"
   ]
  },
  {
   "cell_type": "code",
   "execution_count": null,
   "metadata": {
    "collapsed": true
   },
   "outputs": [],
   "source": [
    "%%cython\n",
    "\n",
    "cdef struct book:\n",
    "    int isbn\n",
    "    int year\n",
    "    \n",
    "def getbook():\n",
    "    cdef book x\n",
    "    x.isbn = 12345\n",
    "    x.year = 2015\n",
    "    return x"
   ]
  },
  {
   "cell_type": "code",
   "execution_count": null,
   "metadata": {
    "collapsed": false
   },
   "outputs": [],
   "source": [
    "output = getbook()\n",
    "print(output)"
   ]
  },
  {
   "cell_type": "code",
   "execution_count": null,
   "metadata": {
    "collapsed": false
   },
   "outputs": [],
   "source": [
    "type(output)"
   ]
  },
  {
   "cell_type": "markdown",
   "metadata": {},
   "source": [
    "# Arrays of structs"
   ]
  },
  {
   "cell_type": "code",
   "execution_count": null,
   "metadata": {
    "collapsed": false
   },
   "outputs": [],
   "source": [
    "%%cython\n",
    "\n",
    "cdef struct movie:\n",
    "    char* title\n",
    "    int year\n",
    "        \n",
    "def getmovies():\n",
    "    cdef movie items[2]\n",
    "    \n",
    "    items[0].title = \"Gone with the Wind\"\n",
    "    items[0].year = 1939\n",
    "    \n",
    "    items[1].title = \"Casablanca\"\n",
    "    items[1].year = 1942\n",
    "    \n",
    "    return items"
   ]
  },
  {
   "cell_type": "code",
   "execution_count": null,
   "metadata": {
    "collapsed": false
   },
   "outputs": [],
   "source": [
    "getmovies()"
   ]
  },
  {
   "cell_type": "markdown",
   "metadata": {},
   "source": [
    "# Arrays _and_ Structs _and_ Enums"
   ]
  },
  {
   "cell_type": "code",
   "execution_count": null,
   "metadata": {
    "collapsed": false
   },
   "outputs": [],
   "source": [
    "%%cython\n",
    "\n",
    "cdef enum Rating:\n",
    "    BAD = 0\n",
    "    SOSO = 1\n",
    "    GOOD = 2\n",
    "    \n",
    "cdef enum Language:\n",
    "    ENGLISH = 0\n",
    "    MANDARIN = 1\n",
    "\n",
    "cdef struct movie:\n",
    "    char* title  # <-- We haven't done strings yet. Coming soon.\n",
    "    int year\n",
    "    Rating rating\n",
    "    Language lang\n",
    "    \n",
    "def getmovies2():\n",
    "    cdef movie items[2]\n",
    "    \n",
    "    items[0].title = \"Gone with the Wind\"\n",
    "    items[0].year = 1939\n",
    "    items[0].rating = GOOD\n",
    "    items[0].lang = ENGLISH\n",
    "    \n",
    "    items[1].title = \"Crouching Tiger, Hidden Dragon\"\n",
    "    items[1].year = 2000\n",
    "    items[1].rating = GOOD\n",
    "    items[1].lang = MANDARIN\n",
    "    \n",
    "    return items"
   ]
  },
  {
   "cell_type": "code",
   "execution_count": null,
   "metadata": {
    "collapsed": false
   },
   "outputs": [],
   "source": [
    "getmovies2()"
   ]
  },
  {
   "cell_type": "markdown",
   "metadata": {},
   "source": [
    "# Union"
   ]
  },
  {
   "cell_type": "code",
   "execution_count": null,
   "metadata": {
    "collapsed": false
   },
   "outputs": [],
   "source": [
    "%%cython\n",
    "# cython: language_level=3\n",
    "\n",
    "cdef union transformer:\n",
    "    # These variables use the same memory block\n",
    "    long long x  # 8 bytes!\n",
    "    double d     # 8 bytes also!\n",
    "    \n",
    "def test():\n",
    "    cdef transformer u\n",
    "    \n",
    "    u.d = 0\n",
    "    print('u.d Before: ', u.d)    \n",
    "    u.x = 123456789\n",
    "    print('u.d After : ', u.d)"
   ]
  },
  {
   "cell_type": "code",
   "execution_count": null,
   "metadata": {
    "collapsed": false
   },
   "outputs": [],
   "source": [
    "test()"
   ]
  },
  {
   "cell_type": "code",
   "execution_count": null,
   "metadata": {
    "collapsed": true
   },
   "outputs": [],
   "source": []
  }
 ],
 "metadata": {
  "kernelspec": {
   "display_name": "Python 3",
   "language": "python",
   "name": "python3"
  },
  "language_info": {
   "codemirror_mode": {
    "name": "ipython",
    "version": 3
   },
   "file_extension": ".py",
   "mimetype": "text/x-python",
   "name": "python",
   "nbconvert_exporter": "python",
   "pygments_lexer": "ipython3",
   "version": "3.4.4"
  }
 },
 "nbformat": 4,
 "nbformat_minor": 0
}
