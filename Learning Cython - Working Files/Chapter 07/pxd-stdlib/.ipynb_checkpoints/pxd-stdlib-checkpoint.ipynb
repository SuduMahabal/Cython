{
 "cells": [
  {
   "cell_type": "code",
   "execution_count": null,
   "metadata": {
    "collapsed": true
   },
   "outputs": [],
   "source": [
    "%load_ext cython"
   ]
  },
  {
   "cell_type": "markdown",
   "metadata": {},
   "source": [
    "# 10 Secret trigonometry functions you never heard of!"
   ]
  },
  {
   "cell_type": "markdown",
   "metadata": {},
   "source": [
    "Are you intrigued? Was the heading sufficiently click-baity?  See:\n",
    "\n",
    "[https://en.wikipedia.org/wiki/Versine](https://en.wikipedia.org/wiki/Versine) and [this blog](http://blogs.scientificamerican.com/roots-of-unity/10-secret-trig-functions-your-math-teachers-never-taught-you/)\n",
    "\n",
    "Let's make a Cython library for them!\n",
    "\n",
    "- Versine: versin(θ)=1-cos(θ)\n",
    "- Vercosine: vercosin(θ)=1+cos(θ)\n",
    "- Coversine: coversin(θ)=1-sin(θ)\n",
    "- Covercosine: covercosine(θ)=1+sin(θ)\n",
    "- Haversine: haversin(θ)=versin(θ)/2\n",
    "- Havercosine: havercosin(θ)=vercosin(θ)/2\n",
    "- Hacoversine: hacoversin(θ)=coversin(θ)/2\n",
    "- Hacovercosine: hacovercosin(θ)=covercosin(θ)/2\n",
    "- Exsecant: exsec(θ)=sec(θ)-1\n",
    "- Excosecant: excsc(θ)=csc(θ)-1"
   ]
  },
  {
   "cell_type": "markdown",
   "metadata": {},
   "source": [
    "## Approach 1: Using `math` from Python"
   ]
  },
  {
   "cell_type": "markdown",
   "metadata": {},
   "source": [
    "**Note: this is a Cython cell, and all variables are typed. This should be very fast**"
   ]
  },
  {
   "cell_type": "code",
   "execution_count": null,
   "metadata": {
    "collapsed": false
   },
   "outputs": [],
   "source": [
    "%%cython -a\n",
    "# cython: boundscheck=False\n",
    "\n",
    "from math import sin, cos\n",
    "\n",
    "cdef inline double versine(double x): \n",
    "    return 1.0 - cos(x)\n",
    "\n",
    "def versine_array_py(double[:] x):\n",
    "    cdef int i, n = x.shape[0]\n",
    "    for i in range(n):\n",
    "        x[i] = versine(x[i])"
   ]
  },
  {
   "cell_type": "markdown",
   "metadata": {},
   "source": [
    "## Approach 2: Using `math` from the C Standard Library"
   ]
  },
  {
   "cell_type": "markdown",
   "metadata": {},
   "source": [
    "** This code is <u>exactly the same</u> as `method1`, all that's different is the call to a `sin()` function.**"
   ]
  },
  {
   "cell_type": "code",
   "execution_count": null,
   "metadata": {
    "collapsed": false
   },
   "outputs": [],
   "source": [
    "%%cython -a\n",
    "# cython: boundscheck=False\n",
    "\n",
    "from libc.math cimport sin, cos\n",
    "\n",
    "cdef inline double versine(double x): \n",
    "    return 1.0 - cos(x)\n",
    "\n",
    "def versine_array_cy(double[:] x):\n",
    "    cdef int i, n = x.shape[0]\n",
    "    for i in range(n):\n",
    "        x[i] = versine(x[i])"
   ]
  },
  {
   "cell_type": "markdown",
   "metadata": {},
   "source": [
    "## Speed test"
   ]
  },
  {
   "cell_type": "code",
   "execution_count": null,
   "metadata": {
    "collapsed": false
   },
   "outputs": [],
   "source": [
    "import numpy\n",
    "\n",
    "data = numpy.random.rand(10000)\n",
    "%timeit versine_array_py(data)\n",
    "\n",
    "data = numpy.random.rand(10000)\n",
    "%timeit versine_array_cy(data)"
   ]
  },
  {
   "cell_type": "markdown",
   "metadata": {},
   "source": [
    "# Roughly 13 X slower than using C math directly\n",
    "\n",
    "### Remember, we used types for everything.  What about just plain Python?"
   ]
  },
  {
   "cell_type": "code",
   "execution_count": null,
   "metadata": {
    "collapsed": false
   },
   "outputs": [],
   "source": [
    "from math import cos\n",
    "def versine_array_pyonly(x):\n",
    "    for i in range(len(x)):\n",
    "        x[i] = 1 - cos(x[i])\n",
    "\n",
    "data = numpy.random.rand(10000)\n",
    "%timeit versine_array_pyonly(data)"
   ]
  },
  {
   "cell_type": "markdown",
   "metadata": {},
   "source": [
    "# Roughly 100 X slower that our Cython code"
   ]
  },
  {
   "cell_type": "code",
   "execution_count": null,
   "metadata": {
    "collapsed": true
   },
   "outputs": [],
   "source": []
  }
 ],
 "metadata": {
  "kernelspec": {
   "display_name": "Python 3",
   "language": "python",
   "name": "python3"
  },
  "language_info": {
   "codemirror_mode": {
    "name": "ipython",
    "version": 3
   },
   "file_extension": ".py",
   "mimetype": "text/x-python",
   "name": "python",
   "nbconvert_exporter": "python",
   "pygments_lexer": "ipython3",
   "version": "3.4.4"
  }
 },
 "nbformat": 4,
 "nbformat_minor": 0
}
