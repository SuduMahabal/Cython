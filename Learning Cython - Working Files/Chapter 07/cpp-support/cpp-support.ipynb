{
 "cells": [
  {
   "cell_type": "code",
   "execution_count": null,
   "metadata": {
    "collapsed": true
   },
   "outputs": [],
   "source": [
    "%load_ext cython"
   ]
  },
  {
   "cell_type": "markdown",
   "metadata": {},
   "source": [
    "# Standard Template Library Support!"
   ]
  },
  {
   "cell_type": "markdown",
   "metadata": {},
   "source": [
    "We're so excited to try it out! Let's go!"
   ]
  },
  {
   "cell_type": "code",
   "execution_count": null,
   "metadata": {
    "collapsed": false
   },
   "outputs": [],
   "source": [
    "%%cython\n",
    "# cython: language_level = 3\n",
    "\n",
    "from libcpp.vector cimport vector\n",
    "\n",
    "cdef vector[int] vect\n",
    "cdef int i\n",
    "for i in range(10):\n",
    "    vect.push_back(i)\n",
    "for i in range(10):\n",
    "    print(vect[i], end=',')"
   ]
  },
  {
   "cell_type": "markdown",
   "metadata": {},
   "source": [
    "## Oops, you need to change the (export) language to C++..."
   ]
  },
  {
   "cell_type": "code",
   "execution_count": null,
   "metadata": {
    "collapsed": false
   },
   "outputs": [],
   "source": [
    "%%cython -a\n",
    "# cython: language_level = 3\n",
    "# distutils: language = c++\n",
    "\n",
    "from libcpp.vector cimport vector\n",
    "\n",
    "cdef vector[int] vect\n",
    "cdef int i\n",
    "for i in range(10):\n",
    "    vect.push_back(i)\n",
    "for i in range(10):\n",
    "    print(vect[i], end=',')"
   ]
  },
  {
   "cell_type": "markdown",
   "metadata": {},
   "source": [
    "# Let's have a closer look"
   ]
  },
  {
   "cell_type": "code",
   "execution_count": null,
   "metadata": {
    "collapsed": false
   },
   "outputs": [],
   "source": [
    "%%cython\n",
    "# cython: language_level = 3\n",
    "# distutils: language = c++\n",
    "\n",
    "from libcpp.vector cimport vector\n",
    "\n",
    "# Make a vector\n",
    "\n",
    "cdef vector[int] vect\n",
    "cdef int i, n = 10000000\n",
    "for i in range(n):\n",
    "    vect.push_back(i)    \n",
    "        \n",
    "# Iteration: easiest      \n",
    "        \n",
    "def method1():\n",
    "    cdef int x, a = 0\n",
    "    for x in vect:\n",
    "        a += x % 5\n",
    "    return a\n",
    "    \n",
    "# Iteration with range: easy    \n",
    "    \n",
    "def method2():\n",
    "    cdef int i, a = 0, n = vect.size()\n",
    "    for i in range(n):\n",
    "        a += vect[i] % 5\n",
    "    return a    \n",
    "    \n",
    "# Iteration: hard\n",
    "    \n",
    "from cython.operator cimport dereference, preincrement\n",
    "\n",
    "def method3():\n",
    "    cdef int x, a = 0\n",
    "    cdef vector[int].iterator itr\n",
    "    itr = vect.begin()\n",
    "    while itr != vect.end():\n",
    "        a += dereference(itr) % 5\n",
    "        preincrement(itr)\n",
    "    return a"
   ]
  },
  {
   "cell_type": "code",
   "execution_count": null,
   "metadata": {
    "collapsed": false
   },
   "outputs": [],
   "source": [
    "print(method1())\n",
    "print(method2())\n",
    "print(method3())"
   ]
  },
  {
   "cell_type": "code",
   "execution_count": null,
   "metadata": {
    "collapsed": false
   },
   "outputs": [],
   "source": [
    "%timeit method1()\n",
    "%timeit method2()\n",
    "%timeit method3()"
   ]
  },
  {
   "cell_type": "markdown",
   "metadata": {},
   "source": [
    "# Auto-converting TO Python objects"
   ]
  },
  {
   "cell_type": "code",
   "execution_count": null,
   "metadata": {
    "collapsed": false
   },
   "outputs": [],
   "source": [
    "%%cython\n",
    "# cython: language_level = 3\n",
    "# distutils: language = c++\n",
    "\n",
    "from libcpp.vector cimport vector\n",
    "from libcpp.list cimport list\n",
    "from libcpp.map cimport map\n",
    "from libcpp.set cimport set\n",
    "from libcpp.pair cimport pair\n",
    "from libcpp.deque cimport deque\n",
    "from libcpp.queue cimport queue\n",
    "\n",
    "def try_vector():\n",
    "    cdef vector[int] x\n",
    "    cdef int i, n = 5\n",
    "    for i in range(n):\n",
    "        x.push_back(i)\n",
    "    cdef object o = x\n",
    "    print(type(o))\n",
    "    \n",
    "def try_list():\n",
    "    cdef list[int] x\n",
    "    cdef int i, n = 5\n",
    "    for i in range(n):\n",
    "        x.push_back(i)\n",
    "    cdef object o = x\n",
    "    print(type(o))\n",
    "    \n",
    "def try_map():\n",
    "    cdef map[int, int] x\n",
    "    cdef int i, n = 5\n",
    "    for i in range(n):\n",
    "        x.insert([i, i])\n",
    "    cdef object o = x\n",
    "    print(type(o))\n",
    "    \n",
    "def try_set():\n",
    "    cdef set[int] x\n",
    "    cdef int i, n = 5\n",
    "    for i in range(n):\n",
    "        x.insert(i)\n",
    "    cdef object o = x\n",
    "    print(type(o))    \n",
    "    \n",
    "def try_pair():\n",
    "    cdef pair[int, int] x\n",
    "    x.first = 1\n",
    "    x.second = 2\n",
    "    cdef object o = x\n",
    "    print(type(o))  \n",
    "    \n",
    "# def try_deque():\n",
    "#     cdef deque[int] x\n",
    "#     cdef int i, n = 5\n",
    "#     for i in range(n):\n",
    "#         x.push_front(i)\n",
    "#     cdef object o = x\n",
    "#     print(type(o))  \n",
    "    \n",
    "# def try_queue():\n",
    "#     cdef queue[int] x\n",
    "#     cdef int i, n = 5\n",
    "#     for i in range(n):\n",
    "#         x.push(i)\n",
    "#     cdef object o = x\n",
    "#     print(type(o))  "
   ]
  },
  {
   "cell_type": "code",
   "execution_count": null,
   "metadata": {
    "collapsed": false
   },
   "outputs": [],
   "source": [
    "try_vector()\n",
    "try_list()\n",
    "try_map()\n",
    "try_set()\n",
    "try_pair()"
   ]
  },
  {
   "cell_type": "markdown",
   "metadata": {},
   "source": [
    "# Auto-converting FROM Python objects"
   ]
  },
  {
   "cell_type": "markdown",
   "metadata": {},
   "source": [
    "\"You want to erase debt!?\"  \n",
    "\n",
    "\"In THIS economy!?\""
   ]
  },
  {
   "cell_type": "code",
   "execution_count": null,
   "metadata": {
    "collapsed": false
   },
   "outputs": [],
   "source": [
    "%%cython\n",
    "# cython: language_level = 3\n",
    "# distutils: language = c++\n",
    "\n",
    "from libcpp.map cimport map\n",
    "from libcpp.string cimport string\n",
    "\n",
    "def erase_debt_but_only_for_me(map[string, double] debtors):\n",
    "    debtors[b'Caleb'] = 0.0"
   ]
  },
  {
   "cell_type": "code",
   "execution_count": null,
   "metadata": {
    "collapsed": false
   },
   "outputs": [],
   "source": [
    "# Make a dict of debtors\n",
    "debtors = {\n",
    "    b'John': 100.0,\n",
    "    b'Caleb': 5000.0,\n",
    "    b'Sarah': 250.0\n",
    "    }\n",
    "\n",
    "erase_debt_but_only_for_me(debtors)\n",
    "print(debtors)"
   ]
  },
  {
   "cell_type": "markdown",
   "metadata": {},
   "source": [
    "## Must return a modified dictionary"
   ]
  },
  {
   "cell_type": "code",
   "execution_count": null,
   "metadata": {
    "collapsed": true
   },
   "outputs": [],
   "source": [
    "%%cython\n",
    "# cython: language_level = 3\n",
    "# distutils: language = c++\n",
    "from libcpp.map cimport map\n",
    "from libcpp.pair cimport pair\n",
    "from libcpp.string cimport string\n",
    "\n",
    "def erase_debt_but_only_for_me(map[string, double] debtors):\n",
    "    debtors[b'Caleb'] = 0.0\n",
    "    return debtors"
   ]
  },
  {
   "cell_type": "code",
   "execution_count": null,
   "metadata": {
    "collapsed": false
   },
   "outputs": [],
   "source": [
    "new_debtors = erase_debt_but_only_for_me(debtors)\n",
    "print(new_debtors)"
   ]
  },
  {
   "cell_type": "code",
   "execution_count": null,
   "metadata": {
    "collapsed": false
   },
   "outputs": [],
   "source": [
    "print(debtors)"
   ]
  },
  {
   "cell_type": "code",
   "execution_count": null,
   "metadata": {
    "collapsed": true
   },
   "outputs": [],
   "source": []
  }
 ],
 "metadata": {
  "kernelspec": {
   "display_name": "Python 3",
   "language": "python",
   "name": "python3"
  },
  "language_info": {
   "codemirror_mode": {
    "name": "ipython",
    "version": 3
   },
   "file_extension": ".py",
   "mimetype": "text/x-python",
   "name": "python",
   "nbconvert_exporter": "python",
   "pygments_lexer": "ipython3",
   "version": "3.4.4"
  }
 },
 "nbformat": 4,
 "nbformat_minor": 0
}
