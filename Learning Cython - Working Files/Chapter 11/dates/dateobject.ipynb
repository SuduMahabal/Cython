{
 "cells": [
  {
   "cell_type": "code",
   "execution_count": null,
   "metadata": {
    "collapsed": true
   },
   "outputs": [],
   "source": [
    "%load_ext cython"
   ]
  },
  {
   "cell_type": "markdown",
   "metadata": {},
   "source": [
    "# Case Study: Slow Pandas dates"
   ]
  },
  {
   "cell_type": "markdown",
   "metadata": {},
   "source": [
    "Batches of data are collected from field instruments. These instruments capture the date in **three separate columns**: day, month and year.\n",
    "\n",
    "Data is processed in **Pandas**, but currently it is <u>slow to convert the three columns into datetimes</u>."
   ]
  },
  {
   "cell_type": "markdown",
   "metadata": {},
   "source": [
    "# Example (randomised) data"
   ]
  },
  {
   "cell_type": "code",
   "execution_count": null,
   "metadata": {
    "collapsed": true
   },
   "outputs": [],
   "source": [
    "import numpy as np\n",
    "import pandas as pd\n",
    "\n",
    "def make_sample_data(size):\n",
    "    d = dict(\n",
    "        # Years: 1980 - 2015\n",
    "        year=np.random.randint(1980, 2016, int(size)),\n",
    "        # Months 1 - 12\n",
    "        month=np.random.randint(1, 13, int(size)),\n",
    "        # Day number: 1 - 28\n",
    "        day=np.random.randint(1, 28, int(size)),\n",
    "        )\n",
    "    return pd.DataFrame(d)"
   ]
  },
  {
   "cell_type": "markdown",
   "metadata": {},
   "source": [
    "## Start with a small dataset"
   ]
  },
  {
   "cell_type": "code",
   "execution_count": null,
   "metadata": {
    "collapsed": false
   },
   "outputs": [],
   "source": [
    "df = make_sample_data(5)\n",
    "df"
   ]
  },
  {
   "cell_type": "markdown",
   "metadata": {},
   "source": [
    "## Goal: make single `datetime` column"
   ]
  },
  {
   "cell_type": "markdown",
   "metadata": {},
   "source": [
    "Let's see the Python code first:"
   ]
  },
  {
   "cell_type": "code",
   "execution_count": null,
   "metadata": {
    "collapsed": true
   },
   "outputs": [],
   "source": [
    "import datetime\n",
    "\n",
    "def create_datetime_py(year, month, day):\n",
    "    \"\"\" Take year, month, day and return a datetime \"\"\"\n",
    "    return datetime.datetime(year, month, day, 0, 0, 0, 0, None)"
   ]
  },
  {
   "cell_type": "markdown",
   "metadata": {},
   "source": [
    "## Use the Python conversion function"
   ]
  },
  {
   "cell_type": "markdown",
   "metadata": {},
   "source": [
    "Pandas has an `apply()` method that runs your function on a bunch of columns.\n",
    "\n",
    "You must provide a function that receives a **row**, and your function must return a value.  All the output values get put into a new Pandas **series**."
   ]
  },
  {
   "cell_type": "code",
   "execution_count": null,
   "metadata": {
    "collapsed": false
   },
   "outputs": [],
   "source": [
    "# Refer to fields by name! Very cool 👍\n",
    "df.apply(lambda x : create_datetime_py(\n",
    "        x['year'], x['month'], x['day']), axis=1)"
   ]
  },
  {
   "cell_type": "markdown",
   "metadata": {},
   "source": [
    "**Note: the type is \"datetime64[ns]\".**\n",
    "\n",
    "Awkward to type that all out each time.  Let's make a convenient function."
   ]
  },
  {
   "cell_type": "code",
   "execution_count": null,
   "metadata": {
    "collapsed": true
   },
   "outputs": [],
   "source": [
    "def make_datetime_py(df):\n",
    "    return df.apply(lambda x : create_datetime_py(\n",
    "        x['year'], x['month'], x['day']), axis=1)"
   ]
  },
  {
   "cell_type": "markdown",
   "metadata": {},
   "source": [
    "Then we can just call it like so:"
   ]
  },
  {
   "cell_type": "code",
   "execution_count": null,
   "metadata": {
    "collapsed": false
   },
   "outputs": [],
   "source": [
    "df['new'] = make_datetime_py(df)\n",
    "df"
   ]
  },
  {
   "cell_type": "markdown",
   "metadata": {},
   "source": [
    "# Problem: this is slow"
   ]
  },
  {
   "cell_type": "markdown",
   "metadata": {},
   "source": [
    "With lots of data, the conversion to a datetime column takes a very long time!  Let's try a bunch of data:"
   ]
  },
  {
   "cell_type": "code",
   "execution_count": null,
   "metadata": {
    "collapsed": false
   },
   "outputs": [],
   "source": [
    "df_big = make_sample_data(100000)\n",
    "\n",
    "%timeit make_datetime_py(df_big)"
   ]
  },
  {
   "cell_type": "markdown",
   "metadata": {},
   "source": [
    "# What to do?\n",
    "\n",
    "The first thing is to check whether there is a low-level PXD interface file for the Python `datetime` object.\n",
    "\n",
    "![title](cython-includes-github.png)"
   ]
  },
  {
   "cell_type": "markdown",
   "metadata": {},
   "source": [
    "# Let's use Cython!"
   ]
  },
  {
   "cell_type": "code",
   "execution_count": null,
   "metadata": {
    "collapsed": false
   },
   "outputs": [],
   "source": [
    "%%cython -a\n",
    "# cython: boundscheck = False\n",
    "# cython: wraparound = False\n",
    "from cpython.datetime cimport (\n",
    "    import_datetime, datetime_new, datetime, timedelta)\n",
    "from pandas import Timestamp\n",
    "\n",
    "import_datetime()\n",
    "\n",
    "cpdef convert_arrays_ts(\n",
    "        long[:] year, long[:] month, long[:] day, \n",
    "        long long[:] out):\n",
    "    \"\"\" Result goes into `out`  \"\"\"\n",
    "    cdef int i, n = year.shape[0]\n",
    "    cdef datetime dt\n",
    "    for i in range(n):\n",
    "        dt = <datetime>datetime_new(\n",
    "                year[i], month[i], day[i], 0, 0, 0, 0, None)\n",
    "        out[i] = Timestamp(dt).value"
   ]
  },
  {
   "cell_type": "markdown",
   "metadata": {},
   "source": [
    "### Utility function for applying our conversion"
   ]
  },
  {
   "cell_type": "code",
   "execution_count": null,
   "metadata": {
    "collapsed": true
   },
   "outputs": [],
   "source": [
    "def make_datetime_cy(df, method):\n",
    "    s = pd.Series(np.zeros(len(df), dtype='datetime64[ns]'))\n",
    "    method(df['year'].values, df['month'].values, df['day'].values,\n",
    "               s.values.view('int64')) \n",
    "    return s"
   ]
  },
  {
   "cell_type": "code",
   "execution_count": null,
   "metadata": {
    "collapsed": false
   },
   "outputs": [],
   "source": [
    "# Test it out\n",
    "make_datetime_cy(df, convert_arrays_ts)"
   ]
  },
  {
   "cell_type": "markdown",
   "metadata": {},
   "source": [
    "## Speed Test"
   ]
  },
  {
   "cell_type": "code",
   "execution_count": null,
   "metadata": {
    "collapsed": false
   },
   "outputs": [],
   "source": [
    "df_big = make_sample_data(100000)\n",
    "\n",
    "%timeit make_datetime_py(df_big)\n",
    "%timeit make_datetime_cy(df_big, convert_arrays_ts)"
   ]
  },
  {
   "cell_type": "markdown",
   "metadata": {},
   "source": [
    "- Check annotation"
   ]
  },
  {
   "cell_type": "markdown",
   "metadata": {},
   "source": [
    "# Eliminate the Python overhead"
   ]
  },
  {
   "cell_type": "code",
   "execution_count": null,
   "metadata": {
    "collapsed": false
   },
   "outputs": [],
   "source": [
    "%%cython -a\n",
    "# cython: boundscheck = False\n",
    "# cython: wraparound = False\n",
    "from cpython.datetime cimport (\n",
    "    import_datetime, datetime_new, datetime, timedelta,\n",
    "    timedelta_seconds, timedelta_days)\n",
    "\n",
    "import_datetime()  # <-- Pretty important\n",
    "\n",
    "cpdef convert_arrays_dt(long[:] year, long[:] month, long[:] day, \n",
    "        long long[:] out):\n",
    "    \"\"\" Result goes into `out`  \"\"\"\n",
    "    cdef int i, n = year.shape[0]\n",
    "    cdef datetime dt, epoch = datetime_new(1970, 1, 1, 0, 0, 0, 0, None)\n",
    "    cdef timedelta td\n",
    "    cdef long seconds\n",
    "    for i in range(n):\n",
    "        dt = <datetime>datetime_new(\n",
    "                year[i], month[i], day[i], 0, 0, 0, 0, None)\n",
    "        td = <timedelta>(dt - epoch)\n",
    "        seconds = timedelta_days(td) * 86400 # Seconds per day\n",
    "        out[i] = seconds * 1000000000  # Nanoseconds, remember?"
   ]
  },
  {
   "cell_type": "markdown",
   "metadata": {},
   "source": [
    "# Test it out"
   ]
  },
  {
   "cell_type": "code",
   "execution_count": null,
   "metadata": {
    "collapsed": false
   },
   "outputs": [],
   "source": [
    "make_datetime_cy(df, convert_arrays_dt)"
   ]
  },
  {
   "cell_type": "markdown",
   "metadata": {},
   "source": [
    "# Speed Test"
   ]
  },
  {
   "cell_type": "code",
   "execution_count": null,
   "metadata": {
    "collapsed": false
   },
   "outputs": [],
   "source": [
    "df_big = make_sample_data(100000)\n",
    "\n",
    "%timeit make_datetime_py(df_big)\n",
    "%timeit make_datetime_cy(df_big, convert_arrays_ts)\n",
    "%timeit make_datetime_cy(df_big, convert_arrays_dt)"
   ]
  },
  {
   "cell_type": "markdown",
   "metadata": {
    "collapsed": true
   },
   "source": [
    "<div style=\"margin-top: 200px;\"></div>\n",
    "# Speed improvement:\n",
    "<p style=\"font-size: 64px;\">~850 X !!!</p>\n",
    "<div style=\"margin-top: 40px;\"></div>\n",
    "- real Python datetime and timedelta objects\n",
    "- still single-threaded"
   ]
  },
  {
   "cell_type": "code",
   "execution_count": null,
   "metadata": {
    "collapsed": true
   },
   "outputs": [],
   "source": []
  }
 ],
 "metadata": {
  "kernelspec": {
   "display_name": "Python 3",
   "language": "python",
   "name": "python3"
  },
  "language_info": {
   "codemirror_mode": {
    "name": "ipython",
    "version": 3
   },
   "file_extension": ".py",
   "mimetype": "text/x-python",
   "name": "python",
   "nbconvert_exporter": "python",
   "pygments_lexer": "ipython3",
   "version": "3.4.4"
  }
 },
 "nbformat": 4,
 "nbformat_minor": 0
}
