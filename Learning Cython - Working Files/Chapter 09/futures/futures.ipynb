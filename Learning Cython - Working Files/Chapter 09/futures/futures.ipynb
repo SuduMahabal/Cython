{
 "cells": [
  {
   "cell_type": "code",
   "execution_count": null,
   "metadata": {
    "collapsed": false
   },
   "outputs": [],
   "source": [
    "%load_ext cython\n",
    "import numpy as np"
   ]
  },
  {
   "cell_type": "markdown",
   "metadata": {},
   "source": [
    "_(We'll be using openmp a bit further down, so we have to switch to the GCC compiler. On Mac OS X, `clang` doesn't work with openmp)_"
   ]
  },
  {
   "cell_type": "code",
   "execution_count": null,
   "metadata": {
    "collapsed": true
   },
   "outputs": [],
   "source": [
    "import os\n",
    "os.environ['CC'] = 'gcc-5'"
   ]
  },
  {
   "cell_type": "markdown",
   "metadata": {},
   "source": [
    "# Using `concurrent.futures`\n",
    "\n",
    "### \"Normal\" Python code, nothing to do with Cython"
   ]
  },
  {
   "cell_type": "code",
   "execution_count": null,
   "metadata": {
    "collapsed": false
   },
   "outputs": [],
   "source": [
    "# Needs Python 3, or \"pip install futures\" for Python 2\n",
    "from concurrent.futures import ThreadPoolExecutor\n",
    "\n",
    "def run(f, x, num_threads=4):\n",
    "    \"\"\" \n",
    "        f: a function with an array parameter\n",
    "        x: an array\n",
    "        \n",
    "        x will be split into pieces and each piece passed to f\n",
    "        in a separate thread.\n",
    "    \"\"\"\n",
    "    with ThreadPoolExecutor(max_workers=num_threads) as pool:\n",
    "        # These are views not copies!\n",
    "        sections = np.array_split(x, num_threads)\n",
    "        # Submit a job for each section of array\n",
    "        jobs = [pool.submit(f, s) for s in sections]\n",
    "    # Wait for each job to finish, grab its result\n",
    "    return sum(j.result() for j in jobs)"
   ]
  },
  {
   "cell_type": "markdown",
   "metadata": {},
   "source": [
    "# Our work functions"
   ]
  },
  {
   "cell_type": "code",
   "execution_count": null,
   "metadata": {
    "collapsed": false
   },
   "outputs": [],
   "source": [
    "%%cython -f\n",
    "# cython: boundscheck = False\n",
    "from libc.math cimport log\n",
    "\n",
    "def f1(double[:] x):\n",
    "    cdef int i, n = x.shape[0]\n",
    "    cdef double result = 0\n",
    "    for i in range(n):\n",
    "        if x[i] > 0.5:\n",
    "            result += log(x[i])\n",
    "        else:\n",
    "            result += 1.0\n",
    "    return result\n",
    "\n",
    "def f2(double[:] x):\n",
    "    cdef int i, n = x.shape[0]\n",
    "    cdef double result = 0\n",
    "    with nogil:                    # <-- This is the important bit\n",
    "        for i in range(n):\n",
    "            if x[i] > 0.5:\n",
    "                result += log(x[i])\n",
    "            else:\n",
    "                result += 1.0\n",
    "    return result"
   ]
  },
  {
   "cell_type": "code",
   "execution_count": null,
   "metadata": {
    "collapsed": false
   },
   "outputs": [],
   "source": [
    "data = np.random.rand(50000000)\n",
    "print('First three elements:',data[:3])"
   ]
  },
  {
   "cell_type": "code",
   "execution_count": null,
   "metadata": {
    "collapsed": false
   },
   "outputs": [],
   "source": [
    "print('f1 direct', f1(data))\n",
    "print('f2 direct', f2(data))\n",
    "print()\n",
    "print('f1 via run()', run(f1, data))\n",
    "print('f2 via run()', run(f2, data))"
   ]
  },
  {
   "cell_type": "markdown",
   "metadata": {},
   "source": [
    "## Timings"
   ]
  },
  {
   "cell_type": "code",
   "execution_count": null,
   "metadata": {
    "collapsed": false
   },
   "outputs": [],
   "source": [
    "print('Direct calls')\n",
    "%timeit f1(data)\n",
    "%timeit f2(data)\n",
    "print()\n",
    "print('Using threads')\n",
    "%timeit run(f1, data)\n",
    "%timeit run(f2, data)"
   ]
  },
  {
   "cell_type": "markdown",
   "metadata": {},
   "source": [
    "# Compare `prange()` and `ThreadPoolExecutor`?"
   ]
  },
  {
   "cell_type": "markdown",
   "metadata": {},
   "source": [
    "Remember the `prange()` version from a previous video?"
   ]
  },
  {
   "cell_type": "code",
   "execution_count": null,
   "metadata": {
    "collapsed": false
   },
   "outputs": [],
   "source": [
    "%%cython -f\n",
    "# distutils: extra_compile_args = -fopenmp\n",
    "# distutils: extra_link_args = -fopenmp\n",
    "# cython: boundscheck = False\n",
    "from libc.math cimport log\n",
    "from cython.parallel cimport prange\n",
    "        \n",
    "def f_openmp(double[:] x):\n",
    "    cdef int i, n = x.shape[0]\n",
    "    cdef double tmp, result = 0\n",
    "    for i in prange(n, nogil=True):\n",
    "        if x[i] > 0.5:\n",
    "            tmp = log(x[i])\n",
    "        else:\n",
    "            tmp = 1.0\n",
    "        result += tmp\n",
    "    return result"
   ]
  },
  {
   "cell_type": "markdown",
   "metadata": {},
   "source": [
    "## Safety first! (check they return the same result)"
   ]
  },
  {
   "cell_type": "code",
   "execution_count": null,
   "metadata": {
    "collapsed": false
   },
   "outputs": [],
   "source": [
    "print(f2(data))\n",
    "print(run(f2, data))\n",
    "print(f_openmp(data))"
   ]
  },
  {
   "cell_type": "markdown",
   "metadata": {},
   "source": [
    "## Showdown!"
   ]
  },
  {
   "cell_type": "code",
   "execution_count": null,
   "metadata": {
    "collapsed": false
   },
   "outputs": [],
   "source": [
    "def pr(s):\n",
    "    print()\n",
    "    print(s)\n",
    "    print('='*len(s))\n",
    "    \n",
    "pr('Single threaded')\n",
    "%timeit f1(data)\n",
    "pr('Threaded: using concurrent.futures')\n",
    "%timeit run(f2, data)\n",
    "pr('Threaded: using openmp')\n",
    "%timeit f_openmp(data)"
   ]
  },
  {
   "cell_type": "markdown",
   "metadata": {},
   "source": [
    "## OpenMP wins!  But..."
   ]
  },
  {
   "cell_type": "code",
   "execution_count": null,
   "metadata": {
    "collapsed": false
   },
   "outputs": [],
   "source": [
    "pr('Threaded: using concurrent.futures with 8 threads')\n",
    "%timeit run(f2, data, num_threads=8)"
   ]
  },
  {
   "cell_type": "markdown",
   "metadata": {},
   "source": [
    "# Increase threads for OpenMP?"
   ]
  },
  {
   "cell_type": "code",
   "execution_count": null,
   "metadata": {
    "collapsed": true
   },
   "outputs": [],
   "source": [
    "%%cython -f\n",
    "# distutils: extra_compile_args = -fopenmp\n",
    "# distutils: extra_link_args = -fopenmp\n",
    "# cython: boundscheck = False\n",
    "from libc.math cimport log\n",
    "from cython.parallel cimport prange\n",
    "        \n",
    "def f_openmp(double[:] x):\n",
    "    cdef int i, n = x.shape[0]\n",
    "    cdef double tmp, result = 0\n",
    "    for i in prange(n, nogil=True, num_threads=8):\n",
    "        if x[i] > 0.5:\n",
    "            tmp = log(x[i])\n",
    "        else:\n",
    "            tmp = 1.0\n",
    "        result += tmp\n",
    "    return result"
   ]
  },
  {
   "cell_type": "code",
   "execution_count": null,
   "metadata": {
    "collapsed": false
   },
   "outputs": [],
   "source": [
    "pr('Threaded: using concurrent.futures with 8 threads')\n",
    "%timeit run(f2, data, num_threads=8)\n",
    "pr('Threaded: using openmp with 8 threads')\n",
    "%timeit f_openmp(data)"
   ]
  },
  {
   "cell_type": "code",
   "execution_count": null,
   "metadata": {
    "collapsed": true
   },
   "outputs": [],
   "source": []
  }
 ],
 "metadata": {
  "kernelspec": {
   "display_name": "Python 3",
   "language": "python",
   "name": "python3"
  },
  "language_info": {
   "codemirror_mode": {
    "name": "ipython",
    "version": 3
   },
   "file_extension": ".py",
   "mimetype": "text/x-python",
   "name": "python",
   "nbconvert_exporter": "python",
   "pygments_lexer": "ipython3",
   "version": "3.5.0"
  }
 },
 "nbformat": 4,
 "nbformat_minor": 0
}
