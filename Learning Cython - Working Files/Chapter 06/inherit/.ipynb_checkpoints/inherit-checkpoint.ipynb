{
 "cells": [
  {
   "cell_type": "code",
   "execution_count": null,
   "metadata": {
    "collapsed": true
   },
   "outputs": [],
   "source": [
    "%load_ext cython"
   ]
  },
  {
   "cell_type": "markdown",
   "metadata": {},
   "source": [
    "# Inheritance in Cython"
   ]
  },
  {
   "cell_type": "code",
   "execution_count": null,
   "metadata": {
    "collapsed": false
   },
   "outputs": [],
   "source": [
    "%%cython\n",
    "# cython: embedsignature=True\n",
    "\n",
    "cdef class Bird:\n",
    "    cdef public:\n",
    "        double weight  # ounces\n",
    "    def __init__(self, weight):\n",
    "        self.weight = weight\n",
    "    def weight_ratio(self, carry_weight):\n",
    "        return carry_weight / self.weight\n",
    "\n",
    "        \n",
    "cdef class Swallow(Bird):\n",
    "    cdef public:\n",
    "        bint migratory  # True/False\n",
    "    def __init__(self, weight, migratory):\n",
    "        super().__init__(weight)  # Call parent constructor\n",
    "        self.migratory = migratory    "
   ]
  },
  {
   "cell_type": "markdown",
   "metadata": {},
   "source": [
    "## Examples of use"
   ]
  },
  {
   "cell_type": "code",
   "execution_count": null,
   "metadata": {
    "collapsed": false
   },
   "outputs": [],
   "source": [
    "bird1 = Bird(5)\n",
    "bird2 = Bird(7)\n",
    "bird3 = Bird(100)\n",
    "# etc.\n",
    "\n",
    "swallow = Swallow(5, True)  # e.g., a five-ounce swallow\n",
    "\n",
    "swallow.weight_ratio(16)  # e.g., 16 ounces: a 1 pound coconut"
   ]
  },
  {
   "cell_type": "markdown",
   "metadata": {},
   "source": [
    "## Python can subclass Cython classes"
   ]
  },
  {
   "cell_type": "code",
   "execution_count": null,
   "metadata": {
    "collapsed": true
   },
   "outputs": [],
   "source": [
    "class EuropeanSwallow(Swallow):\n",
    "    def __init__(self):\n",
    "        # Weight is 20 grams, or 0.7 ounces (not 5 ounces!)\n",
    "        super().__init__(0.705479, migratory=True)  \n",
    "        \n",
    "class AfricanSwallow(Swallow):\n",
    "    def __init__(self):\n",
    "        # Weight is 21 grams, or 0.74 ounces\n",
    "        super().__init__(0.740753, migratory=False)  "
   ]
  },
  {
   "cell_type": "markdown",
   "metadata": {},
   "source": [
    "### Demo"
   ]
  },
  {
   "cell_type": "code",
   "execution_count": null,
   "metadata": {
    "collapsed": false
   },
   "outputs": [],
   "source": [
    "euroswallow = EuropeanSwallow()\n",
    "afriswallow = AfricanSwallow()\n",
    "\n",
    "load = 3.2 * 16  # A coconut is 3.2 pounds, and 16 oz per lb.\n",
    "\n",
    "print('Weight ratios')\n",
    "print('=============')\n",
    "print('European Swallow: {:.2f}'.format(euroswallow.weight_ratio(load)))\n",
    "print('African Swallow : {:.2f}'.format(afriswallow.weight_ratio(load)))"
   ]
  },
  {
   "cell_type": "markdown",
   "metadata": {},
   "source": [
    "# Polymorphism"
   ]
  },
  {
   "cell_type": "code",
   "execution_count": null,
   "metadata": {
    "collapsed": false
   },
   "outputs": [],
   "source": [
    "%%cython\n",
    "\n",
    "cdef class Parent:\n",
    "    cdef str dancing_style(self):\n",
    "        return \"💃: Waltz\"\n",
    "    \n",
    "cdef class Child(Parent):\n",
    "    cdef str dancing_style(self):\n",
    "        return \"💃: B-boying/Breaking\"\n",
    "    \n",
    "# Pay attention!  Declare a var called \"obj\".  Type is \"Parent\"\n",
    "cdef Parent obj\n",
    "\n",
    "# Create the instance.  But use a subclass!\n",
    "obj = Child()\n",
    "\n",
    "# Call the \"dancing style\" method on obj.  What will display?\n",
    "print(obj.dancing_style())"
   ]
  },
  {
   "cell_type": "markdown",
   "metadata": {},
   "source": [
    "## Your code can handle subclasses, but stay <u>fast</u>"
   ]
  },
  {
   "cell_type": "code",
   "execution_count": null,
   "metadata": {
    "collapsed": false
   },
   "outputs": [],
   "source": [
    "%%cython\n",
    "\n",
    "# The root class\n",
    "cdef class Ship:\n",
    "    cdef int passengers\n",
    "    def __init__(self, int passengers):\n",
    "        self.passengers = passengers\n",
    "\n",
    "        \n",
    "def port_taxes(list ships not None):\n",
    "    # Because the loop var is TYPED, access to \"passengers\" is fast\n",
    "    cdef Ship ship  \n",
    "    cdef double tot = 0\n",
    "    for ship in ships:\n",
    "        tot += ship.passengers * 10.0  # e.g. $10 per passenger\n",
    "    return tot"
   ]
  },
  {
   "cell_type": "markdown",
   "metadata": {},
   "source": [
    "### Here are some Python subclasses"
   ]
  },
  {
   "cell_type": "code",
   "execution_count": null,
   "metadata": {
    "collapsed": false
   },
   "outputs": [],
   "source": [
    "class Speedboat(Ship):\n",
    "    def __init__(self):\n",
    "        super().__init__(2)\n",
    "        \n",
    "class LuxuryLiner(Ship):\n",
    "    def __init__(self):\n",
    "        super().__init__(1000)\n",
    "\n",
    "class Yacht(Ship):\n",
    "    def __init__(self):\n",
    "        super().__init__(30)\n",
    "\n",
    "# Lots of instances of different kinds of boats\n",
    "ships = [Speedboat(), LuxuryLiner(), Speedboat(), Yacht(), Yacht()]"
   ]
  },
  {
   "cell_type": "markdown",
   "metadata": {},
   "source": [
    "### This calculation remains very fast"
   ]
  },
  {
   "cell_type": "code",
   "execution_count": null,
   "metadata": {
    "collapsed": false
   },
   "outputs": [],
   "source": [
    "port_taxes(ships)"
   ]
  },
  {
   "cell_type": "code",
   "execution_count": null,
   "metadata": {
    "collapsed": true
   },
   "outputs": [],
   "source": []
  }
 ],
 "metadata": {
  "kernelspec": {
   "display_name": "Python 3",
   "language": "python",
   "name": "python3"
  },
  "language_info": {
   "codemirror_mode": {
    "name": "ipython",
    "version": 3
   },
   "file_extension": ".py",
   "mimetype": "text/x-python",
   "name": "python",
   "nbconvert_exporter": "python",
   "pygments_lexer": "ipython3",
   "version": "3.4.4"
  }
 },
 "nbformat": 4,
 "nbformat_minor": 0
}
