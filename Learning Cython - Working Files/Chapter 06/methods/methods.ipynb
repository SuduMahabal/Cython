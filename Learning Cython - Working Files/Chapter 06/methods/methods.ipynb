{
 "cells": [
  {
   "cell_type": "code",
   "execution_count": null,
   "metadata": {
    "collapsed": false
   },
   "outputs": [],
   "source": [
    "%load_ext cython"
   ]
  },
  {
   "cell_type": "markdown",
   "metadata": {},
   "source": [
    "# Plain Cython functions: compare `cdef` & `cpdef`"
   ]
  },
  {
   "cell_type": "code",
   "execution_count": null,
   "metadata": {
    "collapsed": false
   },
   "outputs": [],
   "source": [
    "%%cython\n",
    "# cython: boundscheck=False\n",
    "# cython: cdivision=True\n",
    "\n",
    "cpdef long f1(long x, long y):\n",
    "    return x % y\n",
    "        \n",
    "cdef long f2(long x, long y):\n",
    "    return x % y\n",
    "        \n",
    "def pyf1(long[:] x, long[:] y):\n",
    "    cdef long result = 0\n",
    "    for i in range(x.shape[0]):\n",
    "        result += f1(x[i], y[i])\n",
    "    return result\n",
    "    \n",
    "def pyf2(long[:] x, long[:] y):\n",
    "    cdef long result = 0\n",
    "    for i in range(x.shape[0]):\n",
    "        result += f2(x[i], y[i])\n",
    "    return result"
   ]
  },
  {
   "cell_type": "markdown",
   "metadata": {},
   "source": [
    "## Make some arrays of integers"
   ]
  },
  {
   "cell_type": "code",
   "execution_count": null,
   "metadata": {
    "collapsed": false
   },
   "outputs": [],
   "source": [
    "import numpy\n",
    "x = numpy.random.randint(1, 100, 2**20)\n",
    "y = numpy.random.randint(1, 100, 2**20)\n",
    "print(x[:5])"
   ]
  },
  {
   "cell_type": "markdown",
   "metadata": {},
   "source": [
    "## Compare `cdef` & `cpdef`"
   ]
  },
  {
   "cell_type": "code",
   "execution_count": null,
   "metadata": {
    "collapsed": false
   },
   "outputs": [],
   "source": [
    "%timeit pyf1(x, y)\n",
    "%timeit pyf2(x, y)"
   ]
  },
  {
   "cell_type": "markdown",
   "metadata": {},
   "source": [
    "# Same code, but as *`cdef class` methods*"
   ]
  },
  {
   "cell_type": "code",
   "execution_count": null,
   "metadata": {
    "collapsed": false
   },
   "outputs": [],
   "source": [
    "%%cython\n",
    "# cython: boundscheck=False\n",
    "# cython: cdivision=True\n",
    "\n",
    "cdef class A:\n",
    "    cpdef long f1(self, long x, long y):\n",
    "        return x % y\n",
    "\n",
    "    cdef long f2(self, long x, long y):\n",
    "        return x % y\n",
    "\n",
    "    def pyf1(self, long[:] x, long[:] y):\n",
    "        cdef long result = 0\n",
    "        for i in range(x.shape[0]):\n",
    "            result += self.f1(x[i], y[i])\n",
    "        return result\n",
    "\n",
    "    def pyf2(self, long[:] x, long[:] y):\n",
    "        cdef long result = 0\n",
    "        for i in range(x.shape[0]):\n",
    "            result += self.f2(x[i], y[i])\n",
    "        return result"
   ]
  },
  {
   "cell_type": "markdown",
   "metadata": {},
   "source": [
    "## Compare `cdef` & `cpdef` <u>methods</u>"
   ]
  },
  {
   "cell_type": "code",
   "execution_count": null,
   "metadata": {
    "collapsed": false
   },
   "outputs": [],
   "source": [
    "obj = A()\n",
    "%timeit obj.pyf1(x, y)\n",
    "%timeit obj.pyf2(x, y)"
   ]
  },
  {
   "cell_type": "markdown",
   "metadata": {},
   "source": [
    "# ...but you can \"`inline`\" a `cdef` <u>method</u>:"
   ]
  },
  {
   "cell_type": "code",
   "execution_count": null,
   "metadata": {
    "collapsed": false
   },
   "outputs": [],
   "source": [
    "%%cython\n",
    "# cython: boundscheck=False\n",
    "# cython: cdivision=True\n",
    "\n",
    "cdef class A:\n",
    "    cpdef long f1(self, long x, long y):\n",
    "        return x % y\n",
    "\n",
    "    cdef long f2(self, long x, long y):\n",
    "        return x % y\n",
    "    \n",
    "    cdef inline long f3(self, long x, long y):\n",
    "        return x % y\n",
    "\n",
    "    def pyf1(self, long[:] x, long[:] y):\n",
    "        cdef long result = 0\n",
    "        for i in range(x.shape[0]):\n",
    "            result += self.f1(x[i], y[i])\n",
    "        return result\n",
    "\n",
    "    def pyf2(self, long[:] x, long[:] y):\n",
    "        cdef long result = 0\n",
    "        for i in range(x.shape[0]):\n",
    "            result += self.f2(x[i], y[i])\n",
    "        return result\n",
    "\n",
    "    def pyf3(self, long[:] x, long[:] y):\n",
    "        cdef long result = 0\n",
    "        for i in range(x.shape[0]):\n",
    "            result += self.f3(x[i], y[i])\n",
    "        return result"
   ]
  },
  {
   "cell_type": "code",
   "execution_count": null,
   "metadata": {
    "collapsed": false
   },
   "outputs": [],
   "source": [
    "obj = A()\n",
    "%timeit obj.pyf1(x, y)\n",
    "%timeit obj.pyf2(x, y)\n",
    "%timeit obj.pyf3(x, y)"
   ]
  },
  {
   "cell_type": "code",
   "execution_count": null,
   "metadata": {
    "collapsed": true
   },
   "outputs": [],
   "source": []
  }
 ],
 "metadata": {
  "kernelspec": {
   "display_name": "Python 3",
   "language": "python",
   "name": "python3"
  },
  "language_info": {
   "codemirror_mode": {
    "name": "ipython",
    "version": 3
   },
   "file_extension": ".py",
   "mimetype": "text/x-python",
   "name": "python",
   "nbconvert_exporter": "python",
   "pygments_lexer": "ipython3",
   "version": "3.4.4"
  }
 },
 "nbformat": 4,
 "nbformat_minor": 0
}
