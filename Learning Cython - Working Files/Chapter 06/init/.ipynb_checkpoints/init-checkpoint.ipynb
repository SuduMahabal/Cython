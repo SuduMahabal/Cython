{
 "cells": [
  {
   "cell_type": "code",
   "execution_count": 1,
   "metadata": {
    "collapsed": false
   },
   "outputs": [],
   "source": [
    "%load_ext cython"
   ]
  },
  {
   "cell_type": "markdown",
   "metadata": {},
   "source": [
    "# A new \"Vector\" extension type"
   ]
  },
  {
   "cell_type": "code",
   "execution_count": 2,
   "metadata": {
    "collapsed": false
   },
   "outputs": [],
   "source": [
    "%%cython\n",
    "from libc.stdlib cimport realloc, free \n",
    "\n",
    "cdef class Vector:\n",
    "    cdef:\n",
    "        double *vec          # Array of doubles\n",
    "        long length          # Length\n",
    "        public double[:] mv  # Memory view, can see from Python!\n",
    "\n",
    "    def __cinit__(self, long length):\n",
    "        self.change_length(length)\n",
    "        \n",
    "    cpdef change_length(self, long newlength):\n",
    "        self.vec = <double*>realloc(self.vec, newlength * sizeof(double))\n",
    "        self.mv = <double[:newlength]>self.vec\n",
    "        self.length = newlength\n",
    "        \n",
    "    def __dealloc__(self):\n",
    "        free(self.vec)  # <--- Memory leak 😱😱😱\n",
    "        pass"
   ]
  },
  {
   "cell_type": "markdown",
   "metadata": {},
   "source": [
    "## Helpful tool for showing memory use"
   ]
  },
  {
   "cell_type": "code",
   "execution_count": 3,
   "metadata": {
    "collapsed": false
   },
   "outputs": [
    {
     "name": "stdout",
     "output_type": "stream",
     "text": [
      "Memory used: 2453.97 MB\n"
     ]
    }
   ],
   "source": [
    "# \"psutil\" is 3rd party. Install with \"pip install psutil\"\n",
    "import os, psutil\n",
    "def memory():\n",
    "    pid = os.getpid()\n",
    "    proc = psutil.Process(pid)\n",
    "    mem = proc.memory_info()\n",
    "    print('Memory used: {:.2f} MB'.format(mem.vms/1024/1024))\n",
    "    \n",
    "# Example call\n",
    "memory()"
   ]
  },
  {
   "cell_type": "markdown",
   "metadata": {},
   "source": [
    "# A small array"
   ]
  },
  {
   "cell_type": "code",
   "execution_count": 4,
   "metadata": {
    "collapsed": false
   },
   "outputs": [
    {
     "name": "stdout",
     "output_type": "stream",
     "text": [
      "Memory used: 2453.97 MB\n"
     ]
    }
   ],
   "source": [
    "a = Vector(2)\n",
    "memory()"
   ]
  },
  {
   "cell_type": "markdown",
   "metadata": {},
   "source": [
    "# A large array"
   ]
  },
  {
   "cell_type": "code",
   "execution_count": 5,
   "metadata": {
    "collapsed": false
   },
   "outputs": [
    {
     "name": "stdout",
     "output_type": "stream",
     "text": [
      "Memory used: 6549.97 MB\n"
     ]
    }
   ],
   "source": [
    "a = Vector(2**29)\n",
    "memory()"
   ]
  },
  {
   "cell_type": "markdown",
   "metadata": {},
   "source": [
    "Dynamically change vector size **down**"
   ]
  },
  {
   "cell_type": "code",
   "execution_count": 6,
   "metadata": {
    "collapsed": false
   },
   "outputs": [
    {
     "name": "stdout",
     "output_type": "stream",
     "text": [
      "Memory used: 2453.97 MB\n"
     ]
    }
   ],
   "source": [
    "a.change_length(2)\n",
    "memory()"
   ]
  },
  {
   "cell_type": "markdown",
   "metadata": {},
   "source": [
    "Dynamically change vector size **up**"
   ]
  },
  {
   "cell_type": "code",
   "execution_count": 7,
   "metadata": {
    "collapsed": false
   },
   "outputs": [
    {
     "name": "stdout",
     "output_type": "stream",
     "text": [
      "Memory used: 6549.97 MB\n"
     ]
    }
   ],
   "source": [
    "a.change_length(2**29)\n",
    "memory()"
   ]
  },
  {
   "cell_type": "markdown",
   "metadata": {},
   "source": [
    "# Reassign `a`? Memory should be stay the same"
   ]
  },
  {
   "cell_type": "code",
   "execution_count": 8,
   "metadata": {
    "collapsed": false
   },
   "outputs": [
    {
     "name": "stdout",
     "output_type": "stream",
     "text": [
      "Memory used: 6549.97 MB\n"
     ]
    }
   ],
   "source": [
    "a = Vector(2**29)\n",
    "memory()"
   ]
  },
  {
   "cell_type": "markdown",
   "metadata": {},
   "source": [
    "# Delete \"`a`\"? Memory should go back down"
   ]
  },
  {
   "cell_type": "code",
   "execution_count": 9,
   "metadata": {
    "collapsed": false
   },
   "outputs": [
    {
     "name": "stdout",
     "output_type": "stream",
     "text": [
      "Memory used: 2453.97 MB\n"
     ]
    }
   ],
   "source": [
    "del(a)\n",
    "memory()"
   ]
  },
  {
   "cell_type": "code",
   "execution_count": null,
   "metadata": {
    "collapsed": true
   },
   "outputs": [],
   "source": []
  }
 ],
 "metadata": {
  "kernelspec": {
   "display_name": "Python 3",
   "language": "python",
   "name": "python3"
  },
  "language_info": {
   "codemirror_mode": {
    "name": "ipython",
    "version": 3
   },
   "file_extension": ".py",
   "mimetype": "text/x-python",
   "name": "python",
   "nbconvert_exporter": "python",
   "pygments_lexer": "ipython3",
   "version": "3.5.0"
  }
 },
 "nbformat": 4,
 "nbformat_minor": 0
}
