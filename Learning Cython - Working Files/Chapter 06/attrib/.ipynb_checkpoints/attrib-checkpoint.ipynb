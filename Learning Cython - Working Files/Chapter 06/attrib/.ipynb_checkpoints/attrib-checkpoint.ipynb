{
 "cells": [
  {
   "cell_type": "code",
   "execution_count": null,
   "metadata": {
    "collapsed": true
   },
   "outputs": [],
   "source": [
    "%load_ext cython"
   ]
  },
  {
   "cell_type": "markdown",
   "metadata": {},
   "source": [
    "# Load some data"
   ]
  },
  {
   "cell_type": "code",
   "execution_count": null,
   "metadata": {
    "collapsed": false
   },
   "outputs": [],
   "source": [
    "!ls -1 *.json"
   ]
  },
  {
   "cell_type": "code",
   "execution_count": null,
   "metadata": {
    "collapsed": true
   },
   "outputs": [],
   "source": [
    "import json\n",
    "with open('world_cup_summary.json') as f:\n",
    "    d = json.load(f)"
   ]
  },
  {
   "cell_type": "code",
   "execution_count": null,
   "metadata": {
    "collapsed": false
   },
   "outputs": [],
   "source": [
    "print('d is a {} of {} items'.format(type(d), len(d)))"
   ]
  },
  {
   "cell_type": "code",
   "execution_count": null,
   "metadata": {
    "collapsed": false
   },
   "outputs": [],
   "source": [
    "d[:2]"
   ]
  },
  {
   "cell_type": "markdown",
   "metadata": {},
   "source": [
    "# A Python class for an event"
   ]
  },
  {
   "cell_type": "code",
   "execution_count": null,
   "metadata": {
    "collapsed": true
   },
   "outputs": [],
   "source": [
    "class pyEvent:\n",
    "    def from_dict(self, d):\n",
    "        # Self-loading from an event dict\n",
    "        self.host = d['host']\n",
    "        self.year = int(d['year'])\n",
    "        self.attendance = int(d['average attendance'].replace(',',''))\n",
    "        \n",
    "def find_max_py1(events: list):\n",
    "    return max(events, key=lambda e: e.attendance)        \n",
    "        \n",
    "def find_max_py2(events: list):\n",
    "    largest = events[0]\n",
    "    for e in events:\n",
    "        if e.attendance > largest.attendance:\n",
    "            largest = e\n",
    "    return largest"
   ]
  },
  {
   "cell_type": "markdown",
   "metadata": {},
   "source": [
    "# A Cython class for an event"
   ]
  },
  {
   "cell_type": "code",
   "execution_count": null,
   "metadata": {
    "collapsed": false
   },
   "outputs": [],
   "source": [
    "%%cython\n",
    "cdef class cyEvent:\n",
    "    cdef public:\n",
    "        str host\n",
    "        int attendance, matches, teams, goals, year\n",
    "        \n",
    "    def from_dict(self, d):\n",
    "            self.host = d['host']\n",
    "            self.year = int(d['year'])        \n",
    "            self.attendance = int(d['average attendance'].replace(',',''))\n",
    "    \n",
    "cdef int keyfunc(cyEvent e):\n",
    "    return e.attendance\n",
    "    \n",
    "def find_max_cy1(list events):\n",
    "    return max(events, key=keyfunc)    \n",
    "    \n",
    "def find_max_cy2(list events):\n",
    "    cdef cyEvent e, largest = events[0]\n",
    "    for e in events:\n",
    "        if e.attendance > largest.attendance:\n",
    "            largest = e\n",
    "    return largest"
   ]
  },
  {
   "cell_type": "markdown",
   "metadata": {},
   "source": [
    "# Populating the lists"
   ]
  },
  {
   "cell_type": "code",
   "execution_count": null,
   "metadata": {
    "collapsed": false
   },
   "outputs": [],
   "source": [
    "py_events = []\n",
    "cy_events = []\n",
    "\n",
    "for _ in d:\n",
    "    # Populate the Python objects\n",
    "    py_instance = pyEvent()\n",
    "    py_instance.from_dict(_)\n",
    "    py_events.append(py_instance)\n",
    "    \n",
    "    # Populate the Cython objects\n",
    "    cy_instance = cyEvent()\n",
    "    cy_instance.from_dict(_)\n",
    "    cy_events.append(cy_instance)"
   ]
  },
  {
   "cell_type": "markdown",
   "metadata": {},
   "source": [
    "# Test that all lookups work"
   ]
  },
  {
   "cell_type": "code",
   "execution_count": null,
   "metadata": {
    "collapsed": false
   },
   "outputs": [],
   "source": [
    "e = find_max_py1(py_events)\n",
    "print('Python lookup 1:', e.host, e.attendance, e.year)\n",
    "e = find_max_py2(py_events)\n",
    "print('Python lookup 2:', e.host, e.attendance, e.year)\n",
    "\n",
    "\n",
    "\n",
    "e = find_max_cy1(cy_events)\n",
    "print('Cython lookup 1:', e.host, e.attendance, e.year)\n",
    "e = find_max_cy2(cy_events)\n",
    "print('Cython lookup 2:', e.host, e.attendance, e.year)"
   ]
  },
  {
   "cell_type": "markdown",
   "metadata": {},
   "source": [
    "# Compare speed"
   ]
  },
  {
   "cell_type": "code",
   "execution_count": null,
   "metadata": {
    "collapsed": false
   },
   "outputs": [],
   "source": [
    "# Both using the \"max\" builtin function\n",
    "%timeit -n 100000 e = find_max_py1(py_events)\n",
    "%timeit -n 100000 e = find_max_cy1(cy_events)"
   ]
  },
  {
   "cell_type": "code",
   "execution_count": null,
   "metadata": {
    "collapsed": false
   },
   "outputs": [],
   "source": [
    "# Both using manual iteration\n",
    "%timeit -n 100000 e = find_max_py2(py_events)\n",
    "%timeit -n 100000 e = find_max_cy2(cy_events)"
   ]
  },
  {
   "cell_type": "code",
   "execution_count": null,
   "metadata": {
    "collapsed": true
   },
   "outputs": [],
   "source": []
  }
 ],
 "metadata": {
  "kernelspec": {
   "display_name": "Python 3",
   "language": "python",
   "name": "python3"
  },
  "language_info": {
   "codemirror_mode": {
    "name": "ipython",
    "version": 3
   },
   "file_extension": ".py",
   "mimetype": "text/x-python",
   "name": "python",
   "nbconvert_exporter": "python",
   "pygments_lexer": "ipython3",
   "version": "3.4.4"
  }
 },
 "nbformat": 4,
 "nbformat_minor": 0
}
