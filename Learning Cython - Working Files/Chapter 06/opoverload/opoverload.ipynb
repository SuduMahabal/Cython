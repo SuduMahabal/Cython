{
 "cells": [
  {
   "cell_type": "markdown",
   "metadata": {},
   "source": [
    "# Operator Overloading Playground!"
   ]
  },
  {
   "cell_type": "code",
   "execution_count": null,
   "metadata": {
    "collapsed": false
   },
   "outputs": [],
   "source": [
    "%load_ext cython"
   ]
  },
  {
   "cell_type": "markdown",
   "metadata": {},
   "source": [
    "## 1. Error propagation (found online)\n",
    "\n",
    "Imagine you have data with error bounds $x = 20 ± 0.1$ and $y = 30 ± 0.2$.  What is the result of $x + y$?\n",
    "\n",
    "For addition or subtraction, if\n",
    "\n",
    "$$\n",
    "Q = a + b - c - d\n",
    "$$\n",
    "\n",
    "then if the error in $a$ is $\\delta a$, then the error in $Q$ is\n",
    "\n",
    "$$\n",
    "\\delta Q = \\sqrt{ (\\delta a)^2 + (\\delta b)^2 +(\\delta c)^2 +(\\delta c)^2}\n",
    "$$"
   ]
  },
  {
   "cell_type": "code",
   "execution_count": null,
   "metadata": {
    "collapsed": false
   },
   "outputs": [],
   "source": [
    "%%cython\n",
    "from libc.math cimport sqrt\n",
    "\n",
    "cdef class Unsure:\n",
    "    cdef double value\n",
    "    cdef double error\n",
    "    def __init__(self, double value, double error=0):\n",
    "        self.value = value\n",
    "        self.error = error\n",
    "        \n",
    "    def __add__(x, y):\n",
    "        if not isinstance(x, Unsure) and not isinstance(y, Unsure):\n",
    "            raise Exception('Bad Types')\n",
    "    \n",
    "        cdef Unsure px = <Unsure>x\n",
    "        cdef Unsure py = <Unsure>y\n",
    "        \n",
    "        cdef Unsure result = Unsure(0)\n",
    "        result.value = px.value + py.value\n",
    "        result.error = sqrt(px.error**2 + py.error**2)\n",
    "        return result\n",
    "    \n",
    "    def __repr__(self):\n",
    "        return '{:.6g} ± {:.3g}'.format(self.value, self.error)"
   ]
  },
  {
   "cell_type": "code",
   "execution_count": null,
   "metadata": {
    "collapsed": false
   },
   "outputs": [],
   "source": [
    "x = Unsure(21.5, 0.5)\n",
    "print(x)"
   ]
  },
  {
   "cell_type": "code",
   "execution_count": null,
   "metadata": {
    "collapsed": false
   },
   "outputs": [],
   "source": [
    "y = Unsure(47.5, 0.5)\n",
    "print(y)"
   ]
  },
  {
   "cell_type": "code",
   "execution_count": null,
   "metadata": {
    "collapsed": false
   },
   "outputs": [],
   "source": [
    "x + y"
   ]
  },
  {
   "cell_type": "markdown",
   "metadata": {},
   "source": [
    "## 2. Interval Arithmetic (found online)\n",
    "\n",
    "In interval arithmetic, each number is really an interval with an upper and lower bound.  When calculations with such numbers are performed, we always make sure the answer retains the correct upper and lower bound.\n",
    "\n",
    "For example, if \n",
    "\n",
    "$$\n",
    "x = \\left[ x_{min} \\;\\;, x_{max} \\;\\; \\right]\n",
    "$$\n",
    "\n",
    "And similar for $y$, then\n",
    "\n",
    "$$\n",
    "x + y = [ x_{min} \\;\\; + y_{min} \\;\\;, x_{max} \\;\\; + y_{max} \\;\\;]\n",
    "$$\n"
   ]
  },
  {
   "cell_type": "code",
   "execution_count": null,
   "metadata": {
    "collapsed": false
   },
   "outputs": [],
   "source": [
    "%%cython\n",
    "cimport cython\n",
    "\n",
    "@cython.freelist(10)\n",
    "cdef class Interval:\n",
    "    cdef double vmin, vmax\n",
    "    def __init__(self, double vmin, double vmax):\n",
    "        self.vmin = vmin\n",
    "        self.vmax = vmax\n",
    "        \n",
    "    def __add__(x, y):\n",
    "        if not isinstance(x, Interval) and not isinstance(y, Interval):\n",
    "            raise Exception('Bad Types')\n",
    "    \n",
    "        cdef Interval px = <Interval>x\n",
    "        cdef Interval py = <Interval>y\n",
    "        \n",
    "        cdef Interval result = Interval(0, 0)\n",
    "        result.vmin = px.vmin + py.vmin\n",
    "        result.vmax = px.vmax + py.vmax\n",
    "        return result\n",
    "    \n",
    "    def __repr__(self):\n",
    "        return '[{:.6g}, {:.6g}]'.format(self.vmin, self.vmax)"
   ]
  },
  {
   "cell_type": "code",
   "execution_count": null,
   "metadata": {
    "collapsed": false
   },
   "outputs": [],
   "source": [
    "x = Interval(21.0, 22.0)\n",
    "print(x)"
   ]
  },
  {
   "cell_type": "code",
   "execution_count": null,
   "metadata": {
    "collapsed": false
   },
   "outputs": [],
   "source": [
    "y = Interval(47.0, 48.0)\n",
    "print(y)"
   ]
  },
  {
   "cell_type": "code",
   "execution_count": null,
   "metadata": {
    "collapsed": false
   },
   "outputs": [],
   "source": [
    "def my_calculation(a, b):\n",
    "    return a + b\n",
    "\n",
    "print(my_calculation(x, y))\n",
    "print(my_calculation(10, 20))"
   ]
  },
  {
   "cell_type": "markdown",
   "metadata": {},
   "source": [
    "## 3. Dependency Tracking\n",
    "\n",
    "It would be very cool to have a bunch of calculations where _afterwards_ you can tell which values depend on which other values."
   ]
  },
  {
   "cell_type": "code",
   "execution_count": null,
   "metadata": {
    "collapsed": false
   },
   "outputs": [],
   "source": [
    "%%cython\n",
    "import numbers\n",
    "from weakref import WeakSet  # WeakSet, so intermediates get deleted\n",
    "\n",
    "cdef class Tracked:\n",
    "    cdef object __weakref__\n",
    "    cdef double value\n",
    "    cdef public str name\n",
    "    cdef public object depends_on  # This value depends on others\n",
    "    def __init__(self, double value, name=None):\n",
    "        self.value = value\n",
    "        self.name = name\n",
    "        self.depends_on = WeakSet() \n",
    "    \n",
    "    @staticmethod\n",
    "    def handle_type(x):\n",
    "        if isinstance(x, numbers.Number): \n",
    "            return Tracked(x)\n",
    "        elif isinstance(x, Tracked):\n",
    "            return x\n",
    "        else:\n",
    "            raise Exception('Bad Types')\n",
    "        \n",
    "    def __mul__(x, y):\n",
    "        cdef Tracked px = <Tracked>Tracked.handle_type(x)\n",
    "        cdef Tracked py = <Tracked>Tracked.handle_type(y)\n",
    "        \n",
    "        cdef Tracked result = Tracked(0)\n",
    "        \n",
    "        result.value = px.value * py.value\n",
    "        result.name = '(calculated)'.format(px.name, py.name)\n",
    "        \n",
    "        result.depends_on.add(px) \n",
    "        result.depends_on.add(py)\n",
    "        result.depends_on |= px.depends_on | py.depends_on\n",
    "        \n",
    "        return result\n",
    "            \n",
    "    def __repr__(self): \n",
    "        depon = [' '*8+x.name for x in self.depends_on]\n",
    "        s = '{:.6g} name=\"{}\"'.format(self.value, self.name)\n",
    "        if depon:\n",
    "            s += '\\n    I depend on: \\n{}'.format('\\n'.join(depon))\n",
    "        return s"
   ]
  },
  {
   "cell_type": "code",
   "execution_count": null,
   "metadata": {
    "collapsed": false
   },
   "outputs": [],
   "source": [
    "ww = Tracked(0.2, name='wall width, metres, measured 5 May 1995 by CJRH')\n",
    "print(ww)"
   ]
  },
  {
   "cell_type": "code",
   "execution_count": null,
   "metadata": {
    "collapsed": false
   },
   "outputs": [],
   "source": [
    "wh = Tracked(2.0, name='wall height, metres, measured 12 Jan 1998 by XYZ')\n",
    "print(wh)\n",
    "\n",
    "wl = Tracked(5.0, name='wall length, metres, ESTIMATE sometime by ABC')\n",
    "print(wl)"
   ]
  },
  {
   "cell_type": "code",
   "execution_count": null,
   "metadata": {
    "collapsed": false
   },
   "outputs": [],
   "source": [
    "def volume(width, height, length):\n",
    "    return width * height * length\n",
    "\n",
    "print(volume(ww, wh, wl))"
   ]
  },
  {
   "cell_type": "code",
   "execution_count": null,
   "metadata": {
    "collapsed": false
   },
   "outputs": [],
   "source": [
    "def mass(volume, density):\n",
    "    return volume * density\n",
    "\n",
    "\n",
    "\n",
    "d = Tracked(2000.0, 'brick (kg/m3), https://en.wikipedia.org/wiki/Brick')\n",
    "print(\n",
    "    mass(volume(ww, wh, wl), d)\n",
    ")"
   ]
  },
  {
   "cell_type": "markdown",
   "metadata": {},
   "source": [
    "## Units of measurement\n",
    "\n",
    "See https://github.com/cjrh/misu"
   ]
  },
  {
   "cell_type": "code",
   "execution_count": null,
   "metadata": {
    "collapsed": false
   },
   "outputs": [],
   "source": [
    "!pip install misu"
   ]
  },
  {
   "cell_type": "code",
   "execution_count": null,
   "metadata": {
    "collapsed": true
   },
   "outputs": [],
   "source": [
    "from misu import *"
   ]
  },
  {
   "cell_type": "code",
   "execution_count": null,
   "metadata": {
    "collapsed": false
   },
   "outputs": [],
   "source": [
    "x = 100*kg\n",
    "y = 300*lb\n",
    "\n",
    "z = x + y\n",
    "print(z)"
   ]
  },
  {
   "cell_type": "code",
   "execution_count": null,
   "metadata": {
    "collapsed": false
   },
   "outputs": [],
   "source": [
    "z >> lb"
   ]
  },
  {
   "cell_type": "code",
   "execution_count": null,
   "metadata": {
    "collapsed": false
   },
   "outputs": [],
   "source": [
    "z + 100*stone"
   ]
  },
  {
   "cell_type": "code",
   "execution_count": null,
   "metadata": {
    "collapsed": false
   },
   "outputs": [],
   "source": [
    "z + 200*feet"
   ]
  },
  {
   "cell_type": "code",
   "execution_count": null,
   "metadata": {
    "collapsed": true
   },
   "outputs": [],
   "source": []
  }
 ],
 "metadata": {
  "kernelspec": {
   "display_name": "Python 3",
   "language": "python",
   "name": "python3"
  },
  "language_info": {
   "codemirror_mode": {
    "name": "ipython",
    "version": 3
   },
   "file_extension": ".py",
   "mimetype": "text/x-python",
   "name": "python",
   "nbconvert_exporter": "python",
   "pygments_lexer": "ipython3",
   "version": "3.4.4"
  }
 },
 "nbformat": 4,
 "nbformat_minor": 0
}
