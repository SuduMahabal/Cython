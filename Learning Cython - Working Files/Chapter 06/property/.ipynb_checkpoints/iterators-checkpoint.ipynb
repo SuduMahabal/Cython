{
 "cells": [
  {
   "cell_type": "code",
   "execution_count": null,
   "metadata": {
    "collapsed": false
   },
   "outputs": [],
   "source": [
    "%load_ext cython"
   ]
  },
  {
   "cell_type": "code",
   "execution_count": null,
   "metadata": {
    "collapsed": false
   },
   "outputs": [],
   "source": [
    "%%cython\n",
    "cdef class B:\n",
    "    cdef int i, n\n",
    "    def __iter__(self):\n",
    "        self.i = 0\n",
    "        self.n = 10\n",
    "        return self\n",
    "    def __next__(self):\n",
    "        self.i += 1\n",
    "        if self.i > self.n:\n",
    "            raise StopIteration\n",
    "        else:\n",
    "            return self.i\n",
    "        "
   ]
  },
  {
   "cell_type": "code",
   "execution_count": null,
   "metadata": {
    "collapsed": false
   },
   "outputs": [],
   "source": [
    "b = B()\n",
    "for x in b:\n",
    "    print(x, end='')\n",
    "print('\\n\\nAutomatic restarts!\\n')\n",
    "for x in b:\n",
    "    print(x, end='')"
   ]
  },
  {
   "cell_type": "code",
   "execution_count": null,
   "metadata": {
    "collapsed": true
   },
   "outputs": [],
   "source": []
  }
 ],
 "metadata": {
  "kernelspec": {
   "display_name": "Python 3",
   "language": "python",
   "name": "python3"
  },
  "language_info": {
   "codemirror_mode": {
    "name": "ipython",
    "version": 3
   },
   "file_extension": ".py",
   "mimetype": "text/x-python",
   "name": "python",
   "nbconvert_exporter": "python",
   "pygments_lexer": "ipython3",
   "version": "3.4.4"
  }
 },
 "nbformat": 4,
 "nbformat_minor": 0
}
